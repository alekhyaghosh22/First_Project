{
  "nbformat": 4,
  "nbformat_minor": 0,
  "metadata": {
    "colab": {
      "provenance": []
    },
    "kernelspec": {
      "name": "python3",
      "display_name": "Python 3"
    },
    "language_info": {
      "name": "python"
    }
  },
  "cells": [
    {
      "cell_type": "code",
      "execution_count": 1,
      "metadata": {
        "id": "tGDGzc3CHATT"
      },
      "outputs": [],
      "source": [
        "#1. What are the five key concepts of Object-Oriented Programming (OOP)?"
      ]
    },
    {
      "cell_type": "code",
      "source": [
        "#The five key concepts of Object-Oriented Programming (OOP) are:\n",
        "\n",
        "#Class: A blueprint or template for creating objects. A class defines a set of attributes (data) and methods (functions) that the objects created from the class will have.\n",
        "\n",
        "#Object: An instance of a class. Objects are individual entities created using the class, containing their own specific data and capable of performing actions through methods defined in the class.\n",
        "\n",
        "#Encapsulation: The concept of bundling data (attributes) and methods that operate on the data into a single unit (class) while restricting direct access to some of the object's components. This protects the internal state of an object from being modified unexpectedly.\n",
        "\n",
        "#Inheritance: A mechanism where a new class (subclass or child class) inherits attributes and methods from an existing class (superclass or parent class). This allows for code reuse and the extension of functionalities.\n",
        "\n",
        "#Polymorphism: The ability of different objects to be treated as instances of the same class or superclass, typically through a common interface. Polymorphism allows methods to be used in different ways, depending on the object calling them.\n",
        "\n",
        "#These key concepts work together to structure code in a way that promotes reusability, maintainability, and scalability."
      ],
      "metadata": {
        "id": "krlwiw1aHJSa"
      },
      "execution_count": 2,
      "outputs": []
    },
    {
      "cell_type": "code",
      "source": [
        "#2. Write a Python class for a `Car` with attributes for `make`, `model`, and `year`. Include a method to display the car's information."
      ],
      "metadata": {
        "id": "GokfXZjoHdaB"
      },
      "execution_count": 3,
      "outputs": []
    },
    {
      "cell_type": "code",
      "source": [
        "#Here's a Python class definition for a Car with attributes for make, model, and year, along with a method to display the car's information:\n",
        "\n",
        "#python\n",
        "#code\n",
        "class Car:\n",
        "    def __init__(self, make, model, year):\n",
        "        # Initializing the attributes\n",
        "        self.make = make\n",
        "        self.model = model\n",
        "        self.year = year\n",
        "\n",
        "    def display_info(self):\n",
        "        # Display the car's information\n",
        "        print(f\"Car Information: {self.year} {self.make} {self.model}\")\n",
        "\n",
        "# Example usage\n",
        "my_car = Car(\"Toyota\", \"Camry\", 2021)\n",
        "my_car.display_info()\n",
        "#In this example, the Car class has three attributes (make, model, and year), and the display_info() method outputs the car's details. You can create an instance of the Car class and call the display_info() method to see the output."
      ],
      "metadata": {
        "colab": {
          "base_uri": "https://localhost:8080/"
        },
        "id": "YV2KBVO8Hwbr",
        "outputId": "65cd4b76-180b-4bcf-cdd4-60e367492cdf"
      },
      "execution_count": 4,
      "outputs": [
        {
          "output_type": "stream",
          "name": "stdout",
          "text": [
            "Car Information: 2021 Toyota Camry\n"
          ]
        }
      ]
    },
    {
      "cell_type": "code",
      "source": [
        "#3. Explain the difference between instance methods and class methods. Provide an example of each."
      ],
      "metadata": {
        "id": "V1-iDdBxIBDM"
      },
      "execution_count": 5,
      "outputs": []
    },
    {
      "cell_type": "code",
      "source": [
        "#The key differences between instance methods and class methods in Python relate to how they are defined, how they are called, and what they operate on:\n",
        "\n",
        "#1. Instance Methods:\n",
        "#Definition: Instance methods are functions defined within a class that act on specific instances of that class.\n",
        "#First Parameter: The first parameter of an instance method is always self, which refers to the specific instance on which the method is called.\n",
        "#Purpose: They can access and modify instance-specific data (attributes), as well as class attributes.\n",
        "#Calling: These methods are called on instances of the class, not on the class itself.\n",
        "#Example of an Instance Method:\n",
        "#python\n",
        "#code\n",
        "class Car:\n",
        "    def __init__(self, make, model, year):\n",
        "        self.make = make  # Instance attribute\n",
        "        self.model = model\n",
        "        self.year = year\n",
        "\n",
        "    # Instance method\n",
        "    def display_info(self):\n",
        "        print(f\"Car: {self.year} {self.make} {self.model}\")\n",
        "\n",
        "# Creating an instance of Car\n",
        "my_car = Car(\"Toyota\", \"Camry\", 2021)\n",
        "my_car.display_info()  # Calling instance method\n",
        "#In this example, the display_info method is an instance method because it operates on a specific Car object, using its attributes (self.make, self.model, self.year).\n",
        "\n",
        "#2. Class Methods:\n",
        "#Definition: Class methods are functions that are associated with the class itself, rather than any individual object.\n",
        "#First Parameter: The first parameter of a class method is cls, which refers to the class, not an instance.\n",
        "#Purpose: They are used to access or modify class attributes (shared across all instances), and they cannot directly modify instance-specific data.\n",
        "#Decorator: Class methods are marked with the @classmethod decorator.\n",
        "#Calling: These methods are called on the class itself, not on instances of the class.\n",
        "#Example of a Class Method:\n",
        "#python\n",
        "#code\n",
        "class Car:\n",
        "    # Class attribute (shared across all instances)\n",
        "    total_cars = 0\n",
        "\n",
        "    def __init__(self, make, model, year):\n",
        "        self.make = make\n",
        "        self.model = model\n",
        "        self.year = year\n",
        "        Car.total_cars += 1  # Increment the total number of cars\n",
        "\n",
        "    # Class method\n",
        "    @classmethod\n",
        "    def get_total_cars(cls):\n",
        "        print(f\"Total cars: {cls.total_cars}\")\n",
        "\n",
        "# Creating instances of Car\n",
        "car1 = Car(\"Toyota\", \"Camry\", 2021)\n",
        "car2 = Car(\"Honda\", \"Accord\", 2020)\n",
        "\n",
        "# Calling class method\n",
        "Car.get_total_cars()  # Output: Total cars: 2\n",
        "#In this example, the get_total_cars method is a class method because it operates on the class itself, accessing the class attribute total_cars.\n",
        "\n",
        "#Key Differences:\n",
        "#Instance methods:\n",
        "#Operate on individual instances of a class.\n",
        "#Access instance-specific attributes via self.\n",
        "#Can modify both instance and class attributes.\n",
        "#Class methods:\n",
        "#Operate on the class as a whole.\n",
        "#Access class-specific attributes via cls.\n",
        "#Use the @classmethod decorator.\n",
        "#Do not have direct access to instance-specific attributes unless passed explicitly."
      ],
      "metadata": {
        "colab": {
          "base_uri": "https://localhost:8080/"
        },
        "id": "OsTKA4RNIF0G",
        "outputId": "069ea0ca-28fc-4243-afe2-aa6561d5bafc"
      },
      "execution_count": 6,
      "outputs": [
        {
          "output_type": "stream",
          "name": "stdout",
          "text": [
            "Car: 2021 Toyota Camry\n",
            "Total cars: 2\n"
          ]
        }
      ]
    },
    {
      "cell_type": "code",
      "source": [
        "#4. How does Python implement method overloading? Give an example."
      ],
      "metadata": {
        "id": "Q90r2-BYKOip"
      },
      "execution_count": 7,
      "outputs": []
    },
    {
      "cell_type": "code",
      "source": [
        "#Python does not support method overloading in the traditional sense like some other languages (e.g., Java, C++), where you can define multiple methods with the same name but different parameter lists (types, number of arguments, etc.). In Python, you can only define one method with a given name in a class. If you redefine a method, the last definition will override any previous ones.\n",
        "\n",
        "#However, you can achieve the effect of method overloading in Python through the following approaches:\n",
        "\n",
        "#Using Default Parameters: You can define a method with default parameter values to allow different numbers of arguments.\n",
        "#Using Variable-Length Arguments: You can define methods that accept a variable number of arguments using *args and **kwargs.\n",
        "#Using Type Checking: You can use if-elif statements inside the method to check the types of the arguments and handle them accordingly.\n",
        "#Example 1: Method Overloading with Default Parameters\n",
        "#python\n",
        "#code\n",
        "class Example:\n",
        "    def display(self, a=None, b=None):\n",
        "        if a is not None and b is not None:\n",
        "            print(f\"Two arguments: a = {a}, b = {b}\")\n",
        "        elif a is not None:\n",
        "            print(f\"One argument: a = {a}\")\n",
        "        else:\n",
        "            print(\"No arguments\")\n",
        "\n",
        "# Usage\n",
        "e = Example()\n",
        "e.display()              # No arguments\n",
        "e.display(10)            # One argument: a = 10\n",
        "e.display(10, 20)        # Two arguments: a = 10, b = 20\n",
        "#Example 2: Method Overloading Using *args\n",
        "#python\n",
        "#code\n",
        "class Example:\n",
        "    def display(self, *args):\n",
        "        if len(args) == 2:\n",
        "            print(f\"Two arguments: {args[0]}, {args[1]}\")\n",
        "        elif len(args) == 1:\n",
        "            print(f\"One argument: {args[0]}\")\n",
        "        else:\n",
        "            print(\"No arguments\")\n",
        "\n",
        "# Usage\n",
        "e = Example()\n",
        "e.display()             # No arguments\n",
        "e.display(10)           # One argument: 10\n",
        "e.display(10, 20)       # Two arguments: 10, 20\n",
        "#Example 3: Method Overloading with Type Checking\n",
        "#python\n",
        "#code\n",
        "class Example:\n",
        "    def display(self, arg):\n",
        "        if isinstance(arg, int):\n",
        "            print(f\"Integer argument: {arg}\")\n",
        "        elif isinstance(arg, str):\n",
        "            print(f\"String argument: {arg}\")\n",
        "        else:\n",
        "            print(\"Other type of argument\")\n",
        "\n",
        "# Usage\n",
        "e = Example()\n",
        "e.display(10)           # Integer argument: 10\n",
        "e.display(\"Hello\")      # String argument: Hello\n",
        "e.display([1, 2, 3])    # Other type of argument\n",
        "#Conclusion:\n",
        "#While Python doesn't support traditional method overloading, you can achieve similar behavior using techniques such as default parameters, *args and **kwargs, or by type checking within the method."
      ],
      "metadata": {
        "colab": {
          "base_uri": "https://localhost:8080/"
        },
        "id": "uJEdnZQSKVZf",
        "outputId": "e6559477-64b4-411c-bf04-5ced31a87d0e"
      },
      "execution_count": 8,
      "outputs": [
        {
          "output_type": "stream",
          "name": "stdout",
          "text": [
            "No arguments\n",
            "One argument: a = 10\n",
            "Two arguments: a = 10, b = 20\n",
            "No arguments\n",
            "One argument: 10\n",
            "Two arguments: 10, 20\n",
            "Integer argument: 10\n",
            "String argument: Hello\n",
            "Other type of argument\n"
          ]
        }
      ]
    },
    {
      "cell_type": "code",
      "source": [
        "#5. What are the three types of access modifiers in Python? How are they denoted?"
      ],
      "metadata": {
        "id": "ToXw-ubhLVt-"
      },
      "execution_count": 9,
      "outputs": []
    },
    {
      "cell_type": "code",
      "source": [
        "#In Python, there are three types of access modifiers used to control the visibility and accessibility of class attributes and methods:\n",
        "\n",
        "#1. Public:\n",
        "#Denoted by: No leading underscores (default).\n",
        "#Description: Public members are accessible from anywhere, both inside and outside the class. By default, all attributes and methods in Python are public.\n",
        "#Usage: Public members are typically used when the data or methods are meant to be widely accessible.\n",
        "#Example:\n",
        "\n",
        "#python\n",
        "#code\n",
        "class Car:\n",
        "    def __init__(self, make, model):\n",
        "        self.make = make  # Public attribute\n",
        "        self.model = model  # Public attribute\n",
        "\n",
        "    def display_info(self):  # Public method\n",
        "        print(f\"Car: {self.make} {self.model}\")\n",
        "\n",
        "car = Car(\"Toyota\", \"Camry\")\n",
        "print(car.make)  # Accessing public attribute\n",
        "car.display_info()  # Accessing public method\n",
        "#2. Protected:\n",
        "#Denoted by: A single leading underscore (_).\n",
        "#Description: Protected members are meant to be accessible within the class and its subclasses, but not intended to be accessed directly from outside the class. This is more of a convention rather than a strict rule, as Python doesn't enforce access restrictions for protected members.\n",
        "#Usage: Protected members are used to indicate that they should be treated as internal to the class or subclass, though they can technically be accessed from outside.\n",
        "#Example:\n",
        "\n",
        "#python\n",
        "#code\n",
        "class Car:\n",
        "    def __init__(self, make, model):\n",
        "        self._make = make  # Protected attribute\n",
        "        self._model = model  # Protected attribute\n",
        "\n",
        "    def _display_info(self):  # Protected method\n",
        "        print(f\"Car: {self._make} {self._model}\")\n",
        "\n",
        "car = Car(\"Toyota\", \"Camry\")\n",
        "print(car._make)  # Accessing protected attribute (conventionally discouraged)\n",
        "car._display_info()  # Accessing protected method (conventionally discouraged)\n",
        "#3. Private:\n",
        "#Denoted by: A double leading underscore (__).\n",
        "#Description: Private members are intended to be inaccessible outside the class where they are defined. Python uses name mangling to make private attributes and methods less accessible, by internally renaming them with the class name. While they can still be accessed with a specific syntax, they are intended to be hidden.\n",
        "#Usage: Private members are used when the data or methods should not be exposed or modified directly outside the class.\n",
        "#Example:\n",
        "\n",
        "#python\n",
        "#code\n",
        "class Car:\n",
        "    def __init__(self, make, model):\n",
        "        self.__make = make  # Private attribute\n",
        "        self.__model = model  # Private attribute\n",
        "\n",
        "    def __display_info(self):  # Private method\n",
        "        print(f\"Car: {self.__make} {self.__model}\")\n",
        "\n",
        "    def public_method(self):\n",
        "        self.__display_info()  # Accessing private method within the class\n",
        "\n",
        "car = Car(\"Toyota\", \"Camry\")\n",
        "# print(car.__make)  # This will raise an AttributeError\n",
        "car.public_method()  # Correct way to access private method indirectly\n",
        "#Accessing private attributes/methods (name mangling):\n",
        "\n",
        "#python\n",
        "#code\n",
        "# Accessing private attribute directly via name mangling (not recommended)\n",
        "print(car._Car__make)  # Accessing private attribute\n",
        "#Summary:\n",
        "#Public: No underscores. Accessible from anywhere.\n",
        "#Protected: Single underscore _. Meant to be used within the class or subclass (but can be accessed from outside).\n",
        "#Private: Double underscore __. Restricted access, name-mangled to prevent accidental access from outside the class.\n",
        "#These access modifiers in Python are not enforced strictly, but follow conventions for encapsulation and data hiding."
      ],
      "metadata": {
        "colab": {
          "base_uri": "https://localhost:8080/"
        },
        "id": "5zRCDkboLdu7",
        "outputId": "77365da9-330f-4e43-95cb-bf6b8caa40c7"
      },
      "execution_count": 10,
      "outputs": [
        {
          "output_type": "stream",
          "name": "stdout",
          "text": [
            "Toyota\n",
            "Car: Toyota Camry\n",
            "Toyota\n",
            "Car: Toyota Camry\n",
            "Car: Toyota Camry\n",
            "Toyota\n"
          ]
        }
      ]
    },
    {
      "cell_type": "code",
      "source": [
        "#6. Describe the five types of inheritance in Python. Provide a simple example of multiple inheritance."
      ],
      "metadata": {
        "id": "kr8XZcUVMblL"
      },
      "execution_count": 11,
      "outputs": []
    },
    {
      "cell_type": "code",
      "source": [
        "#Five Types of Inheritance in Python:\n",
        "#Single Inheritance:\n",
        "\n",
        "#Definition: A single subclass inherits from one superclass.\n",
        "#Example:\n",
        "#python\n",
        "#code\n",
        "class Parent:\n",
        "    def greet(self):\n",
        "        print(\"Hello from Parent\")\n",
        "\n",
        "class Child(Parent):\n",
        "    pass\n",
        "\n",
        "child = Child()\n",
        "child.greet()  # Output: Hello from Parent\n",
        "#Multiple Inheritance:\n",
        "\n",
        "#Definition: A subclass inherits from more than one superclass.\n",
        "#Example:\n",
        "#python\n",
        "#code\n",
        "class Father:\n",
        "    def skill(self):\n",
        "        print(\"Good at carpentry\")\n",
        "\n",
        "class Mother:\n",
        "    def skill(self):\n",
        "        print(\"Good at cooking\")\n",
        "\n",
        "class Child(Father, Mother):\n",
        "    pass\n",
        "\n",
        "child = Child()\n",
        "child.skill()  # Output: Good at carpentry (Father's method is called first due to method resolution order)\n",
        "#Multilevel Inheritance:\n",
        "\n",
        "#Definition: A chain of inheritance where a subclass is derived from a class that is itself a subclass of another class.\n",
        "#Example:\n",
        "#python\n",
        "#code\n",
        "class Grandparent:\n",
        "    def greet(self):\n",
        "        print(\"Hello from Grandparent\")\n",
        "\n",
        "class Parent(Grandparent):\n",
        "    pass\n",
        "\n",
        "class Child(Parent):\n",
        "    pass\n",
        "\n",
        "child = Child()\n",
        "child.greet()  # Output: Hello from Grandparent\n",
        "#Hierarchical Inheritance:\n",
        "\n",
        "#Definition: Multiple subclasses inherit from the same superclass.\n",
        "#Example:\n",
        "#python\n",
        "#code\n",
        "class Parent:\n",
        "    def greet(self):\n",
        "        print(\"Hello from Parent\")\n",
        "\n",
        "class Child1(Parent):\n",
        "    pass\n",
        "\n",
        "class Child2(Parent):\n",
        "    pass\n",
        "\n",
        "child1 = Child1()\n",
        "child2 = Child2()\n",
        "child1.greet()  # Output: Hello from Parent\n",
        "child2.greet()  # Output: Hello from Parent\n",
        "#Hybrid Inheritance:\n",
        "\n",
        "#Definition: A combination of two or more types of inheritance, typically multiple and hierarchical.\n",
        "#Example: A hybrid of multiple inheritance and hierarchical inheritance.\n",
        "#python\n",
        "#code\n",
        "class A:\n",
        "    pass\n",
        "\n",
        "class B(A):\n",
        "    pass\n",
        "\n",
        "class C(A):\n",
        "    pass\n",
        "\n",
        "class D(B, C):\n",
        "    pass\n",
        "#Example of Multiple Inheritance:\n",
        "#python\n",
        "#Code\n",
        "class Animal:\n",
        "    def eat(self):\n",
        "        print(\"Eating\")\n",
        "\n",
        "class Bird:\n",
        "    def fly(self):\n",
        "        print(\"Flying\")\n",
        "\n",
        "class Bat(Animal, Bird):\n",
        "    pass\n",
        "\n",
        "bat = Bat()\n",
        "bat.eat()  # Output: Eating (from Animal)\n",
        "bat.fly()  # Output: Flying (from Bird)\n",
        "#In this example, the Bat class inherits from both the Animal and Bird classes, giving it access to methods from both superclasses (eat from Animal and fly from Bird)."
      ],
      "metadata": {
        "colab": {
          "base_uri": "https://localhost:8080/"
        },
        "id": "P2hsz_U7Mipt",
        "outputId": "a678b1b5-5696-4ad0-a0d4-4e0ecbc82649"
      },
      "execution_count": 12,
      "outputs": [
        {
          "output_type": "stream",
          "name": "stdout",
          "text": [
            "Hello from Parent\n",
            "Good at carpentry\n",
            "Hello from Grandparent\n",
            "Hello from Parent\n",
            "Hello from Parent\n",
            "Eating\n",
            "Flying\n"
          ]
        }
      ]
    },
    {
      "cell_type": "code",
      "source": [
        "#7. What is the Method Resolution Order (MRO) in Python? How can you retrieve it programmatically?"
      ],
      "metadata": {
        "id": "2-HUvNCTN2lQ"
      },
      "execution_count": 13,
      "outputs": []
    },
    {
      "cell_type": "code",
      "source": [
        "#Method Resolution Order (MRO) in Python:\n",
        "#The Method Resolution Order (MRO) is the order in which Python looks for a method or attribute in a class hierarchy, especially in cases of multiple inheritance. When a method is called on an object, Python follows the MRO to determine which method should be executed.\n",
        "\n",
        "#Python uses the C3 Linearization (or C3 superclass linearization) algorithm to determine the MRO. This ensures that:\n",
        "\n",
        "#A child class is checked before its parent classes.\n",
        "#The order respects inheritance, i.e., parent classes are only checked after their children.\n",
        "#The order follows the depth-first, left-to-right rule in the case of multiple inheritance.\n",
        "#Retrieving the MRO Programmatically:\n",
        "#You can retrieve the MRO in Python using the following methods:\n",
        "\n",
        "#Using the __mro__ attribute:\n",
        "\n",
        "#Every class has a __mro__ attribute that shows the method resolution order.\n",
        "#Example:\n",
        "#python\n",
        "#code\n",
        "class A:\n",
        "    pass\n",
        "\n",
        "class B(A):\n",
        "    pass\n",
        "\n",
        "class C(A):\n",
        "    pass\n",
        "\n",
        "class D(B, C):\n",
        "    pass\n",
        "\n",
        "print(D.__mro__)\n",
        "#Output:\n",
        "#code\n",
        "#(<class '__main__.D'>, <class '__main__.B'>, <class '__main__.C'>, <class '__main__.A'>, <class 'object'>)\n",
        "#Using the mro() method:\n",
        "\n",
        "#You can also call the mro() method on a class to get the MRO as a list.\n",
        "#Example:\n",
        "#python\n",
        "#code\n",
        "print(D.mro())\n",
        "#Output:\n",
        "#code\n",
        "#[<class '__main__.D'>, <class '__main__.B'>, <class '__main__.C'>, <class '__main__.A'>, <class 'object'>]\n",
        "#Using the help() function:\n",
        "\n",
        "#The help() function displays the MRO along with other information about the class.\n",
        "#Example:\n",
        "#python\n",
        "#code\n",
        "help(D)\n",
        "#This will output the class hierarchy and show the MRO.\n",
        "#MRO Example:\n",
        "#python\n",
        "#code\n",
        "class A:\n",
        "    def process(self):\n",
        "        print(\"Method in A\")\n",
        "\n",
        "class B(A):\n",
        "    def process(self):\n",
        "        print(\"Method in B\")\n",
        "\n",
        "class C(A):\n",
        "    def process(self):\n",
        "        print(\"Method in C\")\n",
        "\n",
        "class D(B, C):\n",
        "    pass\n",
        "\n",
        "d = D()\n",
        "d.process()  # Output: Method in B\n",
        "\n",
        "# Check MRO\n",
        "print(D.mro())\n",
        "#Output:\n",
        "\n",
        "#Copy code\n",
        "#Method in B\n",
        "#[<class '__main__.D'>, <class '__main__.B'>, <class '__main__.C'>, <class '__main__.A'>, <class 'object'>]\n",
        "#In this example, when d.process() is called on the D class instance, Python follows the MRO: it first looks in class D, then in B (where it finds the process() method), and so it stops there."
      ],
      "metadata": {
        "colab": {
          "base_uri": "https://localhost:8080/"
        },
        "id": "t4WFbGxBOBuX",
        "outputId": "71c66649-6f92-4911-d6e3-4fe04b564885"
      },
      "execution_count": 16,
      "outputs": [
        {
          "output_type": "stream",
          "name": "stdout",
          "text": [
            "(<class '__main__.D'>, <class '__main__.B'>, <class '__main__.C'>, <class '__main__.A'>, <class 'object'>)\n",
            "[<class '__main__.D'>, <class '__main__.B'>, <class '__main__.C'>, <class '__main__.A'>, <class 'object'>]\n",
            "Help on class D in module __main__:\n",
            "\n",
            "class D(B, C)\n",
            " |  Method resolution order:\n",
            " |      D\n",
            " |      B\n",
            " |      C\n",
            " |      A\n",
            " |      builtins.object\n",
            " |  \n",
            " |  Data descriptors inherited from A:\n",
            " |  \n",
            " |  __dict__\n",
            " |      dictionary for instance variables (if defined)\n",
            " |  \n",
            " |  __weakref__\n",
            " |      list of weak references to the object (if defined)\n",
            "\n",
            "Method in B\n",
            "[<class '__main__.D'>, <class '__main__.B'>, <class '__main__.C'>, <class '__main__.A'>, <class 'object'>]\n"
          ]
        }
      ]
    },
    {
      "cell_type": "code",
      "source": [
        "#8. Create an abstract base class `Shape` with an abstract method `area()`. Then create two subclasses`Circle` and `Rectangle` that implement the `area()` method."
      ],
      "metadata": {
        "id": "yA7Izp8yPDob"
      },
      "execution_count": 17,
      "outputs": []
    },
    {
      "cell_type": "code",
      "source": [
        "#To create an abstract base class in Python, you use the abc module (Abstract Base Classes). The Shape class will have an abstract method area(), which must be implemented by any subclasses like Circle and Rectangle.\n",
        "\n",
        "#Example:\n",
        "#python\n",
        "#code\n",
        "from abc import ABC, abstractmethod\n",
        "import math\n",
        "\n",
        "# Abstract base class\n",
        "class Shape(ABC):\n",
        "    @abstractmethod\n",
        "    def area(self):\n",
        "        pass  # Abstract method that must be implemented in subclasses\n",
        "\n",
        "# Subclass Circle\n",
        "class Circle(Shape):\n",
        "    def __init__(self, radius):\n",
        "        self.radius = radius\n",
        "\n",
        "    def area(self):\n",
        "        return math.pi * self.radius ** 2\n",
        "\n",
        "# Subclass Rectangle\n",
        "class Rectangle(Shape):\n",
        "    def __init__(self, width, height):\n",
        "        self.width = width\n",
        "        self.height = height\n",
        "\n",
        "    def area(self):\n",
        "        return self.width * self.height\n",
        "\n",
        "# Example usage\n",
        "circle = Circle(5)\n",
        "rectangle = Rectangle(4, 6)\n",
        "\n",
        "print(f\"Circle Area: {circle.area():.2f}\")       # Circle Area: 78.54\n",
        "print(f\"Rectangle Area: {rectangle.area():.2f}\")  # Rectangle Area: 24.00\n",
        "#Explanation:\n",
        "#Shape Class:\n",
        "\n",
        "#The abstract base class Shape uses the ABC module, and it declares the abstract method area() using the @abstractmethod decorator. This method must be implemented by any subclass of Shape.\n",
        "#Circle and Rectangle Classes:\n",
        "\n",
        "#Both subclasses implement the area() method in their own way. The Circle class calculates the area as\n",
        "#𝜋𝑟2\n",
        "#πr2\n",
        "# , while the Rectangle class calculates the area as\n",
        "#width\n",
        "#×\n",
        "#height\n",
        "#width×height.\n",
        "#Abstract Class Enforcement:\n",
        "\n",
        "#If you try to instantiate the Shape class directly without implementing the area() method, it will raise an error because the class is abstract.\n",
        "#This structure provides a common interface (area()) that subclasses must implement, promoting a clear and consistent design pattern."
      ],
      "metadata": {
        "colab": {
          "base_uri": "https://localhost:8080/"
        },
        "id": "Apg0Nk4SPch9",
        "outputId": "d10d17fb-2ad1-4afb-903a-93c6b885fd1d"
      },
      "execution_count": 18,
      "outputs": [
        {
          "output_type": "stream",
          "name": "stdout",
          "text": [
            "Circle Area: 78.54\n",
            "Rectangle Area: 24.00\n"
          ]
        }
      ]
    },
    {
      "cell_type": "code",
      "source": [
        "#9. Demonstrate polymorphism by creating a function that can work with different shape objects to calculate and print their areas.\n",
        "\n",
        "\n"
      ],
      "metadata": {
        "id": "86JIzJ_VRmeU"
      },
      "execution_count": 19,
      "outputs": []
    },
    {
      "cell_type": "code",
      "source": [
        "#Polymorphism allows objects of different classes to be treated as instances of a common superclass. By creating a common interface (like the area() method in the Shape abstract class), you can write functions that operate on any object that implements that interface, regardless of its specific class.\n",
        "\n",
        "#Here's how to demonstrate polymorphism with the Shape, Circle, and Rectangle classes we defined earlier:\n",
        "\n",
        "#Example:\n",
        "#python\n",
        "#code\n",
        "from abc import ABC, abstractmethod\n",
        "import math\n",
        "\n",
        "# Abstract base class\n",
        "class Shape(ABC):\n",
        "    @abstractmethod\n",
        "    def area(self):\n",
        "        pass\n",
        "\n",
        "# Subclass Circle\n",
        "class Circle(Shape):\n",
        "    def __init__(self, radius):\n",
        "        self.radius = radius\n",
        "\n",
        "    def area(self):\n",
        "        return math.pi * self.radius ** 2\n",
        "\n",
        "# Subclass Rectangle\n",
        "class Rectangle(Shape):\n",
        "    def __init__(self, width, height):\n",
        "        self.width = width\n",
        "        self.height = height\n",
        "\n",
        "    def area(self):\n",
        "        return self.width * self.height\n",
        "\n",
        "# Subclass Triangle\n",
        "class Triangle(Shape):\n",
        "    def __init__(self, base, height):\n",
        "        self.base = base\n",
        "        self.height = height\n",
        "\n",
        "    def area(self):\n",
        "        return 0.5 * self.base * self.height\n",
        "\n",
        "# Function demonstrating polymorphism\n",
        "def print_area(shape: Shape):\n",
        "    print(f\"The area is: {shape.area():.2f}\")\n",
        "\n",
        "# Example usage\n",
        "circle = Circle(5)\n",
        "rectangle = Rectangle(4, 6)\n",
        "triangle = Triangle(3, 7)\n",
        "\n",
        "# Polymorphic function call\n",
        "#print_area(circle)      # Output: The area is: 78.54\n",
        "#print_area(rectangle)   # Output: The area is: 24.00\n",
        "#print_area(triangle)    # Output: The area is: 10.50\n",
        "#Explanation:\n",
        "#Polymorphism is demonstrated through the print_area() function, which accepts a Shape object as its parameter. It doesn't matter whether the shape is a Circle, Rectangle, or Triangle. Each subclass has implemented its own version of the area() method, and the correct method is called based on the object passed.\n",
        "\n",
        "#The function treats each object as an instance of Shape but correctly calculates the area depending on the object's actual type.\n",
        "\n",
        "#\n",
        "#This is an example of run-time polymorphism, where the specific area() method called is determined at runtime based on the actual class of the object."
      ],
      "metadata": {
        "id": "eKcHTGalSDel"
      },
      "execution_count": 24,
      "outputs": []
    },
    {
      "cell_type": "code",
      "source": [
        "#10. Implement encapsulation in a `BankAccount` class with private attributes for `balance` and `account_number`. Include methods for deposit, withdrawal, and balance inquiry."
      ],
      "metadata": {
        "id": "JAnhnPVQS_zL"
      },
      "execution_count": 25,
      "outputs": []
    },
    {
      "cell_type": "code",
      "source": [
        "#To implement encapsulation in a BankAccount class, you will define private attributes for balance and account_number, and provide public methods for depositing, withdrawing, and checking the balance. Encapsulation is achieved by using private attributes (denoted with double underscores) and providing controlled access through public methods.\n",
        "\n",
        "#Here's how you can implement it:\n",
        "\n",
        "#python\n",
        "#code\n",
        "class BankAccount:\n",
        "    def __init__(self, account_number, initial_balance=0):\n",
        "        self.__account_number = account_number  # Private attribute\n",
        "        self.__balance = initial_balance       # Private attribute\n",
        "\n",
        "    def deposit(self, amount):\n",
        "        if amount > 0:\n",
        "            self.__balance += amount\n",
        "            print(f\"Deposited ${amount:.2f}. New balance: ${self.__balance:.2f}\")\n",
        "        else:\n",
        "            print(\"Deposit amount must be positive.\")\n",
        "\n",
        "    def withdraw(self, amount):\n",
        "        if amount > 0:\n",
        "            if amount <= self.__balance:\n",
        "                self.__balance -= amount\n",
        "                print(f\"Withdrew ${amount:.2f}. New balance: ${self.__balance:.2f}\")\n",
        "            else:\n",
        "                print(\"Insufficient funds.\")\n",
        "        else:\n",
        "            print(\"Withdrawal amount must be positive.\")\n",
        "\n",
        "    def get_balance(self):\n",
        "        return self.__balance\n",
        "\n",
        "    def get_account_number(self):\n",
        "        return self.__account_number\n",
        "\n",
        "# Example usage\n",
        "account = BankAccount(\"1234567890\", 1000)\n",
        "\n",
        "# Deposit and withdraw funds\n",
        "account.deposit(500)      # Deposited $500.00. New balance: $1500.00\n",
        "account.withdraw(200)     # Withdrew $200.00. New balance: $1300.00\n",
        "account.withdraw(1500)    # Insufficient funds.\n",
        "\n",
        "# Inquiry\n",
        "print(f\"Account Number: {account.get_account_number()}\")  # Account Number: 1234567890\n",
        "print(f\"Balance: ${account.get_balance():.2f}\")            # Balance: $1300.00\n",
        "\n",
        "# Attempt to access private attributes directly (will raise an AttributeError)\n",
        "# print(account.__balance)  # AttributeError: 'BankAccount' object has no attribute '__balance'\n",
        "#Explanation:\n",
        "#Private Attributes:\n",
        "\n",
        "#The attributes __account_number and __balance are private, indicated by the double underscores (__). They cannot be accessed directly from outside the class.\n",
        "#Public Methods:\n",
        "\n",
        "#deposit(amount): Adds the specified amount to the balance if it's positive.\n",
        "#withdraw(amount): Subtracts the specified amount from the balance if sufficient funds are available and the amount is positive.\n",
        "#get_balance(): Returns the current balance.\n",
        "#get_account_number(): Returns the account number.\n",
        "#Encapsulation:\n",
        "\n",
        "#The private attributes are protected from direct access and modification from outside the class. Instead, operations that modify these attributes are performed through public methods, which enforce rules and ensure data integrity.\n",
        "#Error Handling:\n",
        "\n",
        "#The methods check for invalid operations, such as depositing or withdrawing negative amounts and withdrawing more than the available balance.\n",
        "#This implementation ensures that the internal state of the BankAccount object is protected and can only be modified in controlled ways through the provided methods."
      ],
      "metadata": {
        "colab": {
          "base_uri": "https://localhost:8080/"
        },
        "id": "1fLOOd3KTnMF",
        "outputId": "20ab8d6b-2d20-4aa7-ab54-0ae3e5e8117a"
      },
      "execution_count": 26,
      "outputs": [
        {
          "output_type": "stream",
          "name": "stdout",
          "text": [
            "Deposited $500.00. New balance: $1500.00\n",
            "Withdrew $200.00. New balance: $1300.00\n",
            "Insufficient funds.\n",
            "Account Number: 1234567890\n",
            "Balance: $1300.00\n"
          ]
        }
      ]
    },
    {
      "cell_type": "code",
      "source": [
        "#11. Write a class that overrides the `__str__` and `__add__` magic methods. What will these methods allow you to do?"
      ],
      "metadata": {
        "id": "KTtLFSw_UvcJ"
      },
      "execution_count": 27,
      "outputs": []
    },
    {
      "cell_type": "code",
      "source": [
        "#The __str__ and __add__ magic methods are special methods in Python that allow you to define custom behavior for string representation and addition operations involving instances of your class.\n",
        "\n",
        "#Here's a detailed explanation of these methods and an example of a class that overrides them:\n",
        "\n",
        "#1. __str__ Magic Method:\n",
        "#Purpose: Defines the string representation of an object when using str() or print(). It allows you to control how an instance is displayed as a string.\n",
        "#Usage: When you call print(obj) or str(obj), Python uses the __str__ method to get the string representation of obj.\n",
        "#2. __add__ Magic Method:\n",
        "#Purpose: Defines the behavior for the addition operator +. It allows you to specify how two instances of your class should be added together.\n",
        "#Usage: When you use obj1 + obj2, Python uses the __add__ method to determine the result of the addition.\n",
        "#Example:\n",
        "#Let's create a class Point that represents a point in a 2D coordinate system. We will override the __str__ method to provide a custom string representation and the __add__ method to allow adding two Point instances together.\n",
        "\n",
        "#python\n",
        "#code\n",
        "class Point:\n",
        "    def __init__(self, x, y):\n",
        "        self.x = x\n",
        "        self.y = y\n",
        "\n",
        "    def __str__(self):\n",
        "        # Custom string representation for the Point object\n",
        "        return f\"Point({self.x}, {self.y})\"\n",
        "\n",
        "    def __add__(self, other):\n",
        "        if isinstance(other, Point):\n",
        "            # Define how to add two Point objects\n",
        "            return Point(self.x + other.x, self.y + other.y)\n",
        "        return NotImplemented\n",
        "\n",
        "# Example usage\n",
        "p1 = Point(1, 2)\n",
        "p2 = Point(3, 4)\n",
        "\n",
        "# Print the points\n",
        "print(p1)  # Output: Point(1, 2)\n",
        "print(p2)  # Output: Point(3, 4)\n",
        "\n",
        "# Add two points\n",
        "p3 = p1 + p2\n",
        "print(p3)  # Output: Point(4, 6)\n",
        "#Explanation:\n",
        "#__str__ Method:\n",
        "\n",
        "#The __str__ method is overridden to return a string in the format Point(x, y). This makes the Point instances more readable when printed or converted to a string.\n",
        "#__add__ Method:\n",
        "\n",
        "#The __add__ method is overridden to define how two Point instances should be added. In this case, it creates a new Point whose coordinates are the sum of the coordinates of the two points being added.\n",
        "#It also includes a type check to ensure that the addition is only performed with another Point instance. If the other operand is not a Point, it returns NotImplemented, which allows Python to handle the operation in a way that is appropriate for the involved types.\n",
        "#By overriding these methods, you can customize how your class instances interact with Python’s built-in functions and operators, making your class more intuitive and expressive."
      ],
      "metadata": {
        "colab": {
          "base_uri": "https://localhost:8080/"
        },
        "id": "1M22vXypU-l8",
        "outputId": "c061d6b2-2b0c-4be4-b44f-27e84f963ade"
      },
      "execution_count": 28,
      "outputs": [
        {
          "output_type": "stream",
          "name": "stdout",
          "text": [
            "Point(1, 2)\n",
            "Point(3, 4)\n",
            "Point(4, 6)\n"
          ]
        }
      ]
    },
    {
      "cell_type": "code",
      "source": [
        "#12. Create a decorator that measures and prints the execution time of a function."
      ],
      "metadata": {
        "id": "NAN6e-jjVk6t"
      },
      "execution_count": 29,
      "outputs": []
    },
    {
      "cell_type": "code",
      "source": [
        "\n",
        "#A decorator in Python is a higher-order function that allows you to modify or extend the behavior of other functions or methods. To create a decorator that measures and prints the execution time of a function, you can use the time module to capture the start and end times of the function execution.\n",
        "\n",
        "#Here's a step-by-step implementation of such a decorator:\n",
        "\n",
        "#Example:\n",
        "#python\n",
        "#code\n",
        "import time\n",
        "from functools import wraps\n",
        "\n",
        "def timing_decorator(func):\n",
        "    @wraps(func)\n",
        "    def wrapper(*args, **kwargs):\n",
        "        start_time = time.time()  # Record start time\n",
        "        result = func(*args, **kwargs)  # Call the function\n",
        "        end_time = time.time()  # Record end time\n",
        "        elapsed_time = end_time - start_time\n",
        "        print(f\"Execution time of {func.__name__}: {elapsed_time:.4f} seconds\")\n",
        "        return result\n",
        "    return wrapper\n",
        "\n",
        "# Example usage\n",
        "@timing_decorator\n",
        "def example_function(n):\n",
        "    total = 0\n",
        "    for i in range(n):\n",
        "        total += i\n",
        "    return total\n",
        "\n",
        "# Call the decorated function\n",
        "result = example_function(1000000)\n",
        "print(f\"Result: {result}\")\n",
        "#Explanation:\n",
        "#Import time and wraps:\n",
        "\n",
        "#time is used to measure the execution time.\n",
        "#wraps from functools is used to preserve the metadata of the original function (such as its name and docstring) when it is wrapped by the decorator.\n",
        "#Define timing_decorator:\n",
        "\n",
        "#The timing_decorator function is defined to take a function func as an argument and return a wrapper function.\n",
        "#Define wrapper Function:\n",
        "\n",
        "#The wrapper function captures the start time using time.time().\n",
        "#It then calls the original function func with any arguments and keyword arguments it received.\n",
        "#After the function completes, it captures the end time and calculates the elapsed time.\n",
        "#It prints the execution time of the function in seconds, formatted to four decimal places.\n",
        "#Finally, the wrapper function returns the result of the original function.\n",
        "#Apply the Decorator:\n",
        "\n",
        "#The @timing_decorator syntax is used to apply the decorator to the example_function. This means that every time example_function is called, the wrapper function will be executed, measuring and printing the execution time.\n",
        "#Example Output:\n",
        "#code\n",
        "#Execution time of example_function: 0.0452 seconds\n",
        "#Result: 499999500000\n",
        "#In this example, the timing_decorator provides a way to measure and display how long it takes to execute the example_function, making it useful for performance profiling and optimization."
      ],
      "metadata": {
        "colab": {
          "base_uri": "https://localhost:8080/"
        },
        "id": "jpSr6h6ZVssp",
        "outputId": "538d9b0d-c1c5-4630-c2b4-efedf4b795a7"
      },
      "execution_count": 32,
      "outputs": [
        {
          "output_type": "stream",
          "name": "stdout",
          "text": [
            "Execution time of example_function: 0.2225 seconds\n",
            "Result: 499999500000\n"
          ]
        }
      ]
    },
    {
      "cell_type": "code",
      "source": [
        "#13. Explain the concept of the Diamond Problem in multiple inheritance. How does Python resolve it?"
      ],
      "metadata": {
        "id": "1wSwDo_CWfET"
      },
      "execution_count": 33,
      "outputs": []
    },
    {
      "cell_type": "code",
      "source": [
        "#The Diamond Problem is an issue that can arise in object-oriented programming when using multiple inheritance. It occurs when a class inherits from two classes that both inherit from a common base class. This can create ambiguity about which method or attribute should be inherited from the common base class, especially if the base class has been overridden in the intermediate classes.\n",
        "\n",
        "#Example of the Diamond Problem\n",
        "#Consider the following class hierarchy:\n",
        "\n",
        "#css\n",
        "#Example of the Diamond Problem\n",
        "#Consider the following class hierarchy:\n",
        "\n",
        "#css\n",
        "#code\n",
        "#      A\n",
        "#     / \\\n",
        "#    B   C\n",
        "#     \\ /\n",
        "#      D\n",
        "#In this hierarchy:\n",
        "\n",
        "#B and C both inherit from A.\n",
        "#D inherits from both B and C.\n",
        "#If A has a method or attribute that is overridden by B and C, and D inherits from both B and C, it can be unclear which version of the method or attribute D should inherit.\n",
        "\n",
        "#Example Code\n",
        "#python\n",
        "#code\n",
        "class A:\n",
        "    def greet(self):\n",
        "        print(\"Hello from A\")\n",
        "\n",
        "class B(A):\n",
        "    def greet(self):\n",
        "        print(\"Hello from B\")\n",
        "\n",
        "class C(A):\n",
        "    def greet(self):\n",
        "        print(\"Hello from C\")\n",
        "\n",
        "class D(B, C):\n",
        "    pass\n",
        "\n",
        "d = D()\n",
        "d.greet()  # Which greet() method is called?\n",
        "#Diamond Problem Resolution in Python\n",
        "#Python uses the C3 Linearization (also known as C3 superclass linearization) algorithm to resolve the Diamond Problem. This algorithm provides a consistent and predictable method resolution order (MRO) that determines the order in which classes are searched for methods and attributes.\n",
        "\n",
        "#How C3 Linearization Works\n",
        "#Linearization:\n",
        "\n",
        "#The C3 Linearization algorithm creates a linear order of classes that respects the inheritance hierarchy while preserving the order of base classes. It merges the base classes in a way that ensures a consistent resolution path.\n",
        "#Method Resolution Order (MRO):\n",
        "\n",
        "#Python uses the MRO to determine the sequence in which base classes are searched. You can view the MRO of a class using the __mro__ attribute or the mro() method.\n",
        "#Example Code with MRO\n",
        "#python\n",
        "#code\n",
        "class A:\n",
        "    def greet(self):\n",
        "        print(\"Hello from A\")\n",
        "\n",
        "class B(A):\n",
        "    def greet(self):\n",
        "        print(\"Hello from B\")\n",
        "\n",
        "class C(A):\n",
        "    def greet(self):\n",
        "        print(\"Hello from C\")\n",
        "\n",
        "class D(B, C):\n",
        "    pass\n",
        "\n",
        "d = D()\n",
        "d.greet()  # Output: Hello from B\n",
        "\n",
        "# Print the method resolution order\n",
        "print(D.__mro__)  # Output: (<class '__main__.D'>, <class '__main__.B'>, <class '__main__.C'>, <class '__main__.A'>, <class 'object'>)\n",
        "print(D.mro())    # Output: [<class '__main__.D'>, <class '__main__.B'>, <class '__main__.C'>, <class '__main__.A'>, <class 'object'>]\n",
        "#Explanation:\n",
        "#Method Resolution Order:\n",
        "\n",
        "#When d.greet() is called, Python follows the MRO to find the method. According to the MRO, the method resolution order is D -> B -> C -> A. Thus, B's greet() method is called because B appears before C in the MRO.\n",
        "#MRO Output:\n",
        "\n",
        "#The output of D.__mro__ and D.mro() shows the order in which Python will search for methods or attributes. It provides a clear path through the class hierarchy.\n",
        "#By using the C3 Linearization algorithm, Python resolves the Diamond Problem in a predictable and consistent way, ensuring that each class's method and attribute resolutions are clear and manageable.\n"
      ],
      "metadata": {
        "colab": {
          "base_uri": "https://localhost:8080/"
        },
        "id": "UEr5rRu5WhW1",
        "outputId": "484d50cc-a68f-41d0-e896-9135ceda6ff4"
      },
      "execution_count": 36,
      "outputs": [
        {
          "output_type": "stream",
          "name": "stdout",
          "text": [
            "Hello from B\n",
            "Hello from B\n",
            "(<class '__main__.D'>, <class '__main__.B'>, <class '__main__.C'>, <class '__main__.A'>, <class 'object'>)\n",
            "[<class '__main__.D'>, <class '__main__.B'>, <class '__main__.C'>, <class '__main__.A'>, <class 'object'>]\n"
          ]
        }
      ]
    },
    {
      "cell_type": "code",
      "source": [
        "#14. Write a class method that keeps track of the number of instances created from a class."
      ],
      "metadata": {
        "id": "5RgipstOXKYZ"
      },
      "execution_count": 37,
      "outputs": []
    },
    {
      "cell_type": "code",
      "source": [
        "#To keep track of the number of instances created from a class, you can use a class attribute in combination with a class method. The class attribute will hold the count, and the class method will update and access this count.\n",
        "\n",
        "#Here's how you can implement it:\n",
        "\n",
        "#Example Code\n",
        "#python\n",
        "#code\n",
        "class InstanceCounter:\n",
        "    # Class attribute to keep track of the number of instances\n",
        "    _instance_count = 0\n",
        "\n",
        "    def __init__(self):\n",
        "        # Increment the count each time a new instance is created\n",
        "        InstanceCounter._instance_count += 1\n",
        "\n",
        "    @classmethod\n",
        "    def get_instance_count(cls):\n",
        "        # Class method to get the number of instances\n",
        "        return cls._instance_count\n",
        "\n",
        "# Example usage\n",
        "a = InstanceCounter()\n",
        "b = InstanceCounter()\n",
        "c = InstanceCounter()\n",
        "\n",
        "print(f\"Number of instances created: {InstanceCounter.get_instance_count()}\")  # Output: Number of instances created: 3\n",
        "#Explanation:\n",
        "#Class Attribute:\n",
        "\n",
        "#_instance_count is a class attribute that is shared among all instances of the InstanceCounter class. It keeps track of the total number of instances created.\n",
        "#__init__ Method:\n",
        "\n",
        "#The __init__ method is the constructor that is called when a new instance is created. Each time an instance is created, the _instance_count attribute is incremented by 1.\n",
        "#Class Method get_instance_count:\n",
        "\n",
        "#The get_instance_count class method is defined using the @classmethod decorator. It takes the class (cls) as its first parameter and returns the current value of _instance_count.\n",
        "#Example Usage:\n",
        "\n",
        "#When instances a, b, and c are created, the _instance_count is incremented each time. The get_instance_count method is then used to retrieve the total count of instances created.\n",
        "#This approach ensures that you have a central count of instances that is updated every time a new instance is created and can be accessed through a class method."
      ],
      "metadata": {
        "colab": {
          "base_uri": "https://localhost:8080/"
        },
        "id": "gDGVBOC9XkSU",
        "outputId": "1ebb2c0f-8964-4e96-f9fb-1506dfeac692"
      },
      "execution_count": 38,
      "outputs": [
        {
          "output_type": "stream",
          "name": "stdout",
          "text": [
            "Number of instances created: 3\n"
          ]
        }
      ]
    },
    {
      "cell_type": "code",
      "source": [
        "#15. Implement a static method in a class that checks if a given year is a leap year."
      ],
      "metadata": {
        "id": "nT1zRs6qYGKM"
      },
      "execution_count": 39,
      "outputs": []
    },
    {
      "cell_type": "code",
      "source": [
        "#A static method in a class is a method that does not operate on an instance of the class or modify the class state. It is used for utility functions that are related to the class but do not need access to the class or instance attributes.\n",
        "\n",
        "#Here's how you can implement a static method in a class to check if a given year is a leap year:\n",
        "\n",
        "#Example Code\n",
        "#python\n",
        "#code\n",
        "class YearUtils:\n",
        "    @staticmethod\n",
        "    def is_leap_year(year):\n",
        "        \"\"\"\n",
        "        Static method to check if a given year is a leap year.\n",
        "\n",
        "        Args:\n",
        "        year (int): The year to check.\n",
        "\n",
        "        Returns:\n",
        "        bool: True if the year is a leap year, False otherwise.\n",
        "        \"\"\"\n",
        "        # Leap year logic:\n",
        "        # - Divisible by 4\n",
        "        # - Not divisible by 100 unless also divisible by 400\n",
        "        if (year % 4 == 0 and year % 100 != 0) or (year % 400 == 0):\n",
        "            return True\n",
        "        return False\n",
        "\n",
        "# Example usage\n",
        "print(YearUtils.is_leap_year(2024))  # Output: True\n",
        "print(YearUtils.is_leap_year(1900))  # Output: False\n",
        "print(YearUtils.is_leap_year(2000))  # Output: True\n",
        "print(YearUtils.is_leap_year(2023))  # Output: False\n",
        "#Explanation:\n",
        "#Static Method Definition:\n",
        "\n",
        "#The @staticmethod decorator is used to define is_leap_year as a static method. This means that the method does not need access to the class or instance attributes and can be called on the class itself.\n",
        "#Leap Year Logic:\n",
        "\n",
        "#A year is a leap year if:\n",
        "#It is divisible by 4.\n",
        "#It is not divisible by 100 unless it is also divisible by 400.\n",
        "#The method implements this logic to determine if the year is a leap year.\n",
        "#Example Usage:\n",
        "\n",
        "#The static method is_leap_year is called directly on the class YearUtils without creating an instance. It returns True or False based on whether the given year meets the leap year criteria.\n",
        "#This static method provides a utility function related to years and leap year calculations without requiring any class or instance-specific data."
      ],
      "metadata": {
        "colab": {
          "base_uri": "https://localhost:8080/"
        },
        "id": "yIWery2ZYKD_",
        "outputId": "2206732f-677b-489e-9df3-f18ef4064151"
      },
      "execution_count": 40,
      "outputs": [
        {
          "output_type": "stream",
          "name": "stdout",
          "text": [
            "True\n",
            "False\n",
            "True\n",
            "False\n"
          ]
        }
      ]
    },
    {
      "cell_type": "code",
      "source": [],
      "metadata": {
        "id": "vPRh6k4zYyo0"
      },
      "execution_count": null,
      "outputs": []
    }
  ]
}