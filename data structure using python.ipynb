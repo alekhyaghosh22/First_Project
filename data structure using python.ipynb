{
  "nbformat": 4,
  "nbformat_minor": 0,
  "metadata": {
    "colab": {
      "provenance": []
    },
    "kernelspec": {
      "name": "python3",
      "display_name": "Python 3"
    },
    "language_info": {
      "name": "python"
    }
  },
  "cells": [
    {
      "cell_type": "code",
      "execution_count": 1,
      "metadata": {
        "id": "v_ylivFKGz7M"
      },
      "outputs": [],
      "source": [
        "#1. Write a code to reverse a string."
      ]
    },
    {
      "cell_type": "code",
      "source": [
        "#Here's a simple Python code to reverse a string:\n",
        "\n",
        "#code\n",
        "def reverse_string(s):\n",
        "    return s[::-1]\n",
        "\n",
        "# Example usage\n",
        "input_string = \"Hello, World!\"\n",
        "reversed_string = reverse_string(input_string)\n",
        "print(\"Reversed string:\", reversed_string)\n",
        "#This code defines a function reverse_string that takes a string s as input and returns the reversed version of the string using Python's slicing method. The example usage shows how to reverse the string \"Hello, World!\"."
      ],
      "metadata": {
        "colab": {
          "base_uri": "https://localhost:8080/"
        },
        "id": "_R1ReXLxHDnw",
        "outputId": "8126c588-a3af-4305-a9c5-5491cad27fa3"
      },
      "execution_count": 2,
      "outputs": [
        {
          "output_type": "stream",
          "name": "stdout",
          "text": [
            "Reversed string: !dlroW ,olleH\n"
          ]
        }
      ]
    },
    {
      "cell_type": "code",
      "source": [
        "#2.Write a code to count the number of vowels in a string."
      ],
      "metadata": {
        "id": "GdpjNFXtHmNQ"
      },
      "execution_count": 3,
      "outputs": []
    },
    {
      "cell_type": "code",
      "source": [
        "#Here’s a Python code to count the number of vowels in a string:\n",
        "\n",
        "#code\n",
        "def count_vowels(s):\n",
        "    vowels = \"aeiouAEIOU\"\n",
        "    count = 0\n",
        "    for char in s:\n",
        "        if char in vowels:\n",
        "            count += 1\n",
        "    return count\n",
        "\n",
        "# Example usage\n",
        "input_string = \"Hello, World!\"\n",
        "vowel_count = count_vowels(input_string)\n",
        "print(\"Number of vowels:\", vowel_count)\n",
        "#This code defines a function count_vowels that iterates through each character in the input string s and increments the count if the character is a vowel (either lowercase or uppercase). The example usage shows how to count the vowels in the string \"Hello, World!\"."
      ],
      "metadata": {
        "colab": {
          "base_uri": "https://localhost:8080/"
        },
        "id": "R9GZU_46IBME",
        "outputId": "93be7e51-94b0-4589-9551-b5e8b5e52e51"
      },
      "execution_count": 4,
      "outputs": [
        {
          "output_type": "stream",
          "name": "stdout",
          "text": [
            "Number of vowels: 3\n"
          ]
        }
      ]
    },
    {
      "cell_type": "code",
      "source": [
        "#3.Write a code to check if a given string is a palindrome or not."
      ],
      "metadata": {
        "id": "kWiSw2znIY8p"
      },
      "execution_count": 5,
      "outputs": []
    },
    {
      "cell_type": "code",
      "source": [
        "#Here's a Python code to check if a given string is a palindrome:\n",
        "\n",
        "#code\n",
        "def is_palindrome(s):\n",
        "    # Remove spaces and convert to lowercase for case-insensitive comparison\n",
        "    cleaned_string = s.replace(\" \", \"\").lower()\n",
        "    # Check if the string is equal to its reverse\n",
        "    return cleaned_string == cleaned_string[::-1]\n",
        "\n",
        "# Example usage\n",
        "input_string = \"A man a plan a canal Panama\"\n",
        "if is_palindrome(input_string):\n",
        "    print(f'\"{input_string}\" is a palindrome.')\n",
        "else:\n",
        "    print(f'\"{input_string}\" is not a palindrome.')\n",
        "#This code defines a function is_palindrome that:\n",
        "\n",
        "#Removes spaces and converts the string to lowercase to make the check case-insensitive.\n",
        "#Compares the cleaned string to its reverse to determine if it is a palindrome.\n",
        "#The example usage checks if the string \"A man a plan a canal Panama\" is a palindrome."
      ],
      "metadata": {
        "colab": {
          "base_uri": "https://localhost:8080/"
        },
        "id": "0XIjyuD6I5RZ",
        "outputId": "05d16b94-2456-4d30-a0b5-72bc6ff27e88"
      },
      "execution_count": 6,
      "outputs": [
        {
          "output_type": "stream",
          "name": "stdout",
          "text": [
            "\"A man a plan a canal Panama\" is a palindrome.\n"
          ]
        }
      ]
    },
    {
      "cell_type": "markdown",
      "source": [],
      "metadata": {
        "id": "PeQdlCL4KRwm"
      }
    },
    {
      "cell_type": "code",
      "source": [
        "#4.Write a code to check if two given strings are anagrams of each other."
      ],
      "metadata": {
        "id": "c-AAbtD_JSQo"
      },
      "execution_count": 8,
      "outputs": []
    },
    {
      "cell_type": "code",
      "source": [
        "#Here's a Python code to check if two given strings are anagrams of each other:\n",
        "\n",
        "#code\n",
        "def are_anagrams(str1, str2):\n",
        "    # Remove spaces and convert to lowercase for case-insensitive comparison\n",
        "    cleaned_str1 = str1.replace(\" \", \"\").lower()\n",
        "    cleaned_str2 = str2.replace(\" \", \"\").lower()\n",
        "\n",
        "    # Sort the characters of both strings and compare\n",
        "    return sorted(cleaned_str1) == sorted(cleaned_str2)\n",
        "\n",
        "# Example usage\n",
        "string1 = \"Listen\"\n",
        "string2 = \"Silent\"\n",
        "\n",
        "if are_anagrams(string1, string2):\n",
        "    print(f'\"{string1}\" and \"{string2}\" are anagrams.')\n",
        "else:\n",
        "    print(f'\"{string1}\" and \"{string2}\" are not anagrams.')\n",
        "#This code defines a function are_anagrams that:\n",
        "\n",
        "#Removes spaces and converts both strings to lowercase for case-insensitive comparison.\n",
        "#Sorts the characters of both strings and compares them. If the sorted versions are identical, the strings are anagrams.\n",
        "#The example usage checks if \"Listen\" and \"Silent\" are anagrams of each other."
      ],
      "metadata": {
        "colab": {
          "base_uri": "https://localhost:8080/"
        },
        "id": "sl2u93MtKBkZ",
        "outputId": "12b77aad-910a-4ccf-9be9-a2e53da5b7aa"
      },
      "execution_count": 9,
      "outputs": [
        {
          "output_type": "stream",
          "name": "stdout",
          "text": [
            "\"Listen\" and \"Silent\" are anagrams.\n"
          ]
        }
      ]
    },
    {
      "cell_type": "code",
      "source": [
        "#5.Write a code to find all occurrences of a given substring within another string."
      ],
      "metadata": {
        "id": "ECW1IXP1KgpI"
      },
      "execution_count": 10,
      "outputs": []
    },
    {
      "cell_type": "code",
      "source": [
        "#Here's a Python code to find all occurrences of a given substring within another string:\n",
        "\n",
        "#code\n",
        "def find_all_occurrences(main_string, substring):\n",
        "    occurrences = []\n",
        "    start = 0\n",
        "\n",
        "    while True:\n",
        "        # Find the substring in main_string starting from the current position\n",
        "        start = main_string.find(substring, start)\n",
        "\n",
        "        # If no more occurrences are found, exit the loop\n",
        "        if start == -1:\n",
        "            break\n",
        "\n",
        "        # Append the index of the found substring to the occurrences list\n",
        "        occurrences.append(start)\n",
        "\n",
        "        # Move the starting index to the next character after the found substring\n",
        "        start += 1\n",
        "\n",
        "    return occurrences\n",
        "\n",
        "# Example usage\n",
        "main_string = \"This is a test string for testing.\"\n",
        "substring = \"test\"\n",
        "\n",
        "result = find_all_occurrences(main_string, substring)\n",
        "print(f'Occurrences of \"{substring}\" in \"{main_string}\": {result}')\n",
        "#This code defines a function find_all_occurrences that:\n",
        "\n",
        "#Uses the find method to locate the substring within the main_string.\n",
        "#Continues searching for additional occurrences by updating the starting index.\n",
        "#Collects and returns the starting indices of all found occurrences.\n",
        "#The example usage finds all occurrences of the substring \"test\" within the string \"This is a test string for testing.\"."
      ],
      "metadata": {
        "colab": {
          "base_uri": "https://localhost:8080/"
        },
        "id": "MBaf2FtdLjaL",
        "outputId": "776ff509-6153-4ceb-fef3-b59a9cf9e510"
      },
      "execution_count": 11,
      "outputs": [
        {
          "output_type": "stream",
          "name": "stdout",
          "text": [
            "Occurrences of \"test\" in \"This is a test string for testing.\": [10, 26]\n"
          ]
        }
      ]
    },
    {
      "cell_type": "code",
      "source": [
        "#6.Write a code to perform basic string compression using the counts of repeated characters."
      ],
      "metadata": {
        "id": "ZJ225GwjLsUA"
      },
      "execution_count": 12,
      "outputs": []
    },
    {
      "cell_type": "code",
      "source": [
        "#Here's a Python code to perform basic string compression by using the counts of repeated characters:\n",
        "\n",
        "#code\n",
        "def compress_string(s):\n",
        "    compressed = []\n",
        "    count = 1\n",
        "\n",
        "    for i in range(1, len(s)):\n",
        "        if s[i] == s[i - 1]:\n",
        "            count += 1\n",
        "        else:\n",
        "            compressed.append(s[i - 1] + str(count))\n",
        "            count = 1\n",
        "\n",
        "    # Add the last character and its count\n",
        "    compressed.append(s[-1] + str(count))\n",
        "\n",
        "    # Join the compressed list into a string\n",
        "    compressed_string = ''.join(compressed)\n",
        "\n",
        "    # Return the original string if compression doesn't make it shorter\n",
        "    return compressed_string if len(compressed_string) < len(s) else s\n",
        "\n",
        "# Example usage\n",
        "input_string = \"aaabbccccdd\"\n",
        "compressed_string = compress_string(input_string)\n",
        "print(\"Compressed string:\", compressed_string)\n",
        "#This code defines a function compress_string that:\n",
        "\n",
        "#Iterates through the string, counting consecutive repeated characters.\n",
        "#Appends each character and its count to a list.\n",
        "#Joins the list into a compressed string.\n",
        "#Returns the compressed string if it is shorter than the original string; otherwise, it returns the original string.\n",
        "#The example usage compresses the string \"aaabbccccdd\" to \"a3b2c4d2\"."
      ],
      "metadata": {
        "colab": {
          "base_uri": "https://localhost:8080/"
        },
        "id": "mIT2hh76MMMn",
        "outputId": "8517d71c-a5ef-4554-851d-192ab3cbe736"
      },
      "execution_count": 13,
      "outputs": [
        {
          "output_type": "stream",
          "name": "stdout",
          "text": [
            "Compressed string: a3b2c4d2\n"
          ]
        }
      ]
    },
    {
      "cell_type": "code",
      "source": [
        "#7.Write a code to determine if a string has all unique characters."
      ],
      "metadata": {
        "id": "o3yEQ4mnOPna"
      },
      "execution_count": 14,
      "outputs": []
    },
    {
      "cell_type": "code",
      "source": [
        "#Here's a Python code to determine if a string has all unique characters:\n",
        "\n",
        "#code\n",
        "def has_unique_characters(s):\n",
        "    # Use a set to track characters that have been seen\n",
        "    seen_characters = set()\n",
        "\n",
        "    for char in s:\n",
        "        if char in seen_characters:\n",
        "            return False  # Duplicate character found\n",
        "        seen_characters.add(char)\n",
        "\n",
        "    return True  # All characters are unique\n",
        "\n",
        "# Example usage\n",
        "input_string = \"abcdefg\"\n",
        "if has_unique_characters(input_string):\n",
        "    print(f'\"{input_string}\" has all unique characters.')\n",
        "else:\n",
        "    print(f'\"{input_string}\" does not have all unique characters.')\n",
        "#This code defines a function has_unique_characters that:\n",
        "\n",
        "#Uses a set to track characters that have been encountered in the string.\n",
        "#Iterates through each character in the string and checks if it has already been seen.\n",
        "#If a duplicate character is found, the function returns False.\n",
        "#If all characters are unique, the function returns True.\n",
        "#The example usage checks if the string \"abcdefg\" has all unique characters."
      ],
      "metadata": {
        "colab": {
          "base_uri": "https://localhost:8080/"
        },
        "id": "Qz1cNQI9Okhn",
        "outputId": "2b2ab81d-047f-4cf7-de9c-65eaf916b0e7"
      },
      "execution_count": 15,
      "outputs": [
        {
          "output_type": "stream",
          "name": "stdout",
          "text": [
            "\"abcdefg\" has all unique characters.\n"
          ]
        }
      ]
    },
    {
      "cell_type": "code",
      "source": [
        "#8.Write a code to convert a given string to uppercase or lowercase."
      ],
      "metadata": {
        "id": "kwXEXPDwPGBG"
      },
      "execution_count": 16,
      "outputs": []
    },
    {
      "cell_type": "code",
      "source": [
        "#Here's a Python code to convert a given string to either uppercase or lowercase:\n",
        "\n",
        "#code\n",
        "def convert_case(s, to_upper=True):\n",
        "    if to_upper:\n",
        "        return s.upper()\n",
        "    else:\n",
        "        return s.lower()\n",
        "\n",
        "# Example usage\n",
        "input_string = \"Hello, World!\"\n",
        "\n",
        "# Convert to uppercase\n",
        "uppercase_string = convert_case(input_string, to_upper=True)\n",
        "print(\"Uppercase:\", uppercase_string)\n",
        "\n",
        "# Convert to lowercase\n",
        "lowercase_string = convert_case(input_string, to_upper=False)\n",
        "print(\"Lowercase:\", lowercase_string)\n",
        "#This code defines a function convert_case that:\n",
        "\n",
        "#Takes a string s and a boolean to_upper.\n",
        "#Converts the string to uppercase if to_upper is True, otherwise converts it to lowercase.\n",
        "#Returns the converted string.\n",
        "#The example usage demonstrates converting the string \"Hello, World!\" to both uppercase and lowercase."
      ],
      "metadata": {
        "colab": {
          "base_uri": "https://localhost:8080/"
        },
        "id": "ZA164g88PVYL",
        "outputId": "ace19f0a-c3e8-4a20-9839-d70f9e1c45c8"
      },
      "execution_count": 17,
      "outputs": [
        {
          "output_type": "stream",
          "name": "stdout",
          "text": [
            "Uppercase: HELLO, WORLD!\n",
            "Lowercase: hello, world!\n"
          ]
        }
      ]
    },
    {
      "cell_type": "code",
      "source": [
        "#9.Write a code to count the number of words in a string."
      ],
      "metadata": {
        "id": "rc9wRzEAPmMe"
      },
      "execution_count": 18,
      "outputs": []
    },
    {
      "cell_type": "code",
      "source": [
        "#Here's a Python code to count the number of words in a string:\n",
        "\n",
        "#code\n",
        "def count_words(s):\n",
        "    # Split the string into words based on whitespace\n",
        "    words = s.split()\n",
        "    return len(words)\n",
        "\n",
        "# Example usage\n",
        "input_string = \"Hello, world! How are you today?\"\n",
        "word_count = count_words(input_string)\n",
        "print(\"Number of words:\", word_count)\n",
        "#This code defines a function count_words that:\n",
        "\n",
        "#Splits the string s into words using the split() method, which divides the string at any whitespace and returns a list of words.\n",
        "#Returns the length of the list, which corresponds to the number of words in the string.\n",
        "#The example usage counts the number of words in the string \"Hello, world! How are you today?\"."
      ],
      "metadata": {
        "colab": {
          "base_uri": "https://localhost:8080/"
        },
        "id": "9rMbYxSnPzIw",
        "outputId": "b547701c-dd60-4ab1-876d-999d981d07ea"
      },
      "execution_count": 19,
      "outputs": [
        {
          "output_type": "stream",
          "name": "stdout",
          "text": [
            "Number of words: 6\n"
          ]
        }
      ]
    },
    {
      "cell_type": "code",
      "source": [
        "#10.Write a code to concatenate two strings without using the + operator."
      ],
      "metadata": {
        "id": "4GT8ZL9sQCGy"
      },
      "execution_count": 20,
      "outputs": []
    },
    {
      "cell_type": "code",
      "source": [
        "#Here's a Python code to concatenate two strings without using the + operator:\n",
        "\n",
        "#code\n",
        "def concatenate_strings(str1, str2):\n",
        "    # Use the join method to concatenate the strings\n",
        "    return \"\".join([str1, str2])\n",
        "\n",
        "# Example usage\n",
        "string1 = \"Hello, \"\n",
        "string2 = \"World!\"\n",
        "concatenated_string = concatenate_strings(string1, string2)\n",
        "print(\"Concatenated string:\", concatenated_string)\n",
        "#This code defines a function concatenate_strings that:\n",
        "\n",
        "#Uses the join() method to concatenate str1 and str2.\n",
        "#Returns the concatenated string.\n",
        "#The example usage concatenates the strings \"Hello, \" and \"World!\" to produce \"Hello, World!\"."
      ],
      "metadata": {
        "colab": {
          "base_uri": "https://localhost:8080/"
        },
        "id": "eh3VHPXzQRGr",
        "outputId": "bde0692e-f35c-4b47-a10e-84d96a3ee068"
      },
      "execution_count": 21,
      "outputs": [
        {
          "output_type": "stream",
          "name": "stdout",
          "text": [
            "Concatenated string: Hello, World!\n"
          ]
        }
      ]
    },
    {
      "cell_type": "code",
      "source": [
        "#11.Write a code to remove all occurrences of a specific element from ' list."
      ],
      "metadata": {
        "id": "2aAk0ZUUQjSG"
      },
      "execution_count": 22,
      "outputs": []
    },
    {
      "cell_type": "code",
      "source": [
        "#Here's a Python code to remove all occurrences of a specific element from a list:\n",
        "\n",
        "#code\n",
        "def remove_element(lst, element):\n",
        "    # Use list comprehension to create a new list without the specified element\n",
        "    return [item for item in lst if item != element]\n",
        "\n",
        "# Example usage\n",
        "my_list = [1, 2, 3, 4, 2, 5, 2]\n",
        "element_to_remove = 2\n",
        "updated_list = remove_element(my_list, element_to_remove)\n",
        "print(\"Updated list:\", updated_list)\n",
        "#This code defines a function remove_element that:\n",
        "\n",
        "#Uses a list comprehension to iterate over the original list lst and includes only those items that are not equal to the element.\n",
        "#Returns the new list with all occurrences of the specified element removed.\n",
        "#The example usage removes all occurrences of the element 2 from the list [1, 2, 3, 4, 2, 5, 2], resulting in [1, 3, 4, 5]."
      ],
      "metadata": {
        "colab": {
          "base_uri": "https://localhost:8080/"
        },
        "id": "lP5GvCGxQ_8H",
        "outputId": "9654aaad-3979-4016-d3e2-8544e6ae1e6d"
      },
      "execution_count": 23,
      "outputs": [
        {
          "output_type": "stream",
          "name": "stdout",
          "text": [
            "Updated list: [1, 3, 4, 5]\n"
          ]
        }
      ]
    },
    {
      "cell_type": "code",
      "source": [
        "#12.Implement a code to find the second largest number in a given list of integers."
      ],
      "metadata": {
        "id": "L38xcz7GRUdx"
      },
      "execution_count": 24,
      "outputs": []
    },
    {
      "cell_type": "code",
      "source": [
        "#Here's a Python code to find the second largest number in a given list of integers:\n",
        "\n",
        "#code\n",
        "def find_second_largest(numbers):\n",
        "    # Check if there are at least two distinct elements\n",
        "    if len(numbers) < 2:\n",
        "        return None  # Not enough elements to find the second largest\n",
        "\n",
        "    # Initialize the first and second largest values\n",
        "    first_largest = second_largest = float('-inf')\n",
        "\n",
        "    for number in numbers:\n",
        "        if number > first_largest:\n",
        "            # Update both first and second largest\n",
        "            second_largest = first_largest\n",
        "            first_largest = number\n",
        "        elif number > second_largest and number != first_largest:\n",
        "            # Update second largest only\n",
        "            second_largest = number\n",
        "\n",
        "    # Check if we have found a valid second largest\n",
        "    return second_largest if second_largest != float('-inf') else None\n",
        "\n",
        "# Example usage\n",
        "numbers_list = [10, 5, 20, 20, 4, 15]\n",
        "second_largest_number = find_second_largest(numbers_list)\n",
        "print(\"Second largest number:\", second_largest_number)\n",
        "#This code defines a function find_second_largest that:\n",
        "\n",
        "#Initializes first_largest and second_largest to negative infinity.\n",
        "#Iterates through the list and updates the largest and second largest values based on comparisons.\n",
        "#Returns the second largest number if found; otherwise, returns None if there's no valid second largest number (e.g., if all numbers are the same).\n",
        "#The example usage finds the second largest number in the list [10, 5, 20, 20, 4, 15], which is 15."
      ],
      "metadata": {
        "colab": {
          "base_uri": "https://localhost:8080/"
        },
        "id": "N8HbXJpBRyQP",
        "outputId": "b6d237f6-a696-4c98-b22c-3506d95c76de"
      },
      "execution_count": 25,
      "outputs": [
        {
          "output_type": "stream",
          "name": "stdout",
          "text": [
            "Second largest number: 15\n"
          ]
        }
      ]
    },
    {
      "cell_type": "code",
      "source": [
        "#13.Create a code to count the occurrences of each element in a list and return a dictionary with elements as keys and their counts as values."
      ],
      "metadata": {
        "id": "Yzvr0PFpSFwS"
      },
      "execution_count": 26,
      "outputs": []
    },
    {
      "cell_type": "code",
      "source": [
        "#Here's a Python code to count the occurrences of each element in a list and return a dictionary with elements as keys and their counts as values:\n",
        "\n",
        "#code\n",
        "def count_occurrences(lst):\n",
        "    # Initialize an empty dictionary to store counts\n",
        "    counts = {}\n",
        ""
      ],
      "metadata": {
        "id": "xWE4PCMkS4Zd"
      },
      "execution_count": 27,
      "outputs": []
    },
    {
      "cell_type": "code",
      "source": [
        "#14. Write a code to reverse a list in-place without using any built in reverse functions."
      ],
      "metadata": {
        "id": "jpzQ_zE_THbA"
      },
      "execution_count": 28,
      "outputs": []
    },
    {
      "cell_type": "code",
      "source": [
        "#Certainly! To reverse a list in place without using built-in reverse functions, you can use a two-pointer approach. Here’s how you can do it in Python:\n",
        "\n",
        "#code\n",
        "def reverse_list_in_place(lst):\n",
        "    left = 0\n",
        "    right = len(lst) - 1\n",
        "\n",
        "    while left < right:\n",
        "        # Swap the elements at the left and right indices\n",
        "        lst[left], lst[right] = lst[right], lst[left]\n",
        "        # Move the pointers towards the center\n",
        "        left += 1\n",
        "        right -= 1\n",
        "\n",
        "# Example usage\n",
        "my_list = [1, 2, 3, 4, 5]\n",
        "reverse_list_in_place(my_list)\n",
        "print(my_list)  # Output: [5, 4, 3, 2, 1]\n",
        "#In this code:\n",
        "\n",
        "#We initialize two pointers, left starting at the beginning of the list and right at the end.\n",
        "#We then swap the elements at these pointers and move the pointers towards each other until they meet or cross.\n",
        "#This method reverses the list in place, modifying the original list."
      ],
      "metadata": {
        "colab": {
          "base_uri": "https://localhost:8080/"
        },
        "id": "qAD8Dm1OTjUN",
        "outputId": "24d8903f-22be-4b70-85d7-48212f48421d"
      },
      "execution_count": 29,
      "outputs": [
        {
          "output_type": "stream",
          "name": "stdout",
          "text": [
            "[5, 4, 3, 2, 1]\n"
          ]
        }
      ]
    },
    {
      "cell_type": "code",
      "source": [
        "#15. Implement a code to find and remove duplicates from a list while preserving the original order of elements."
      ],
      "metadata": {
        "id": "ohKWbWkGT7M_"
      },
      "execution_count": 30,
      "outputs": []
    },
    {
      "cell_type": "code",
      "source": [
        "#To find and remove duplicates from a list while preserving the original order of elements, you can use a set to keep track of seen elements and a new list to store the results. Here’s a Python function to do that:\n",
        "\n",
        "#code\n",
        "def remove_duplicates(lst):\n",
        "    seen = set()\n",
        "    result = []\n",
        "\n",
        "    for item in lst:\n",
        "        if item not in seen:\n",
        "            result.append(item)\n",
        "            seen.add(item)\n",
        "\n",
        "    return result\n",
        "\n",
        "# Example usage\n",
        "my_list = [1, 2, 2, 3, 4, 4, 5]\n",
        "no_duplicates = remove_duplicates(my_list)\n",
        "print(no_duplicates)  # Output: [1, 2, 3, 4, 5]\n",
        "#In this code:\n",
        "\n",
        "#We use a set called seen to track elements that have already been encountered.\n",
        "#As we iterate through the list, we check if each element is in the seen set.\n",
        "#If an element is not in the set, we add it to the result list and also add it to the set to mark it as seen.\n",
        "#Finally, we return the result list which contains the elements in their original order but without duplicates."
      ],
      "metadata": {
        "colab": {
          "base_uri": "https://localhost:8080/"
        },
        "id": "3OV0KSxjU3U2",
        "outputId": "31e09183-856b-4fac-8014-f31c4ff8fa08"
      },
      "execution_count": 31,
      "outputs": [
        {
          "output_type": "stream",
          "name": "stdout",
          "text": [
            "[1, 2, 3, 4, 5]\n"
          ]
        }
      ]
    },
    {
      "cell_type": "code",
      "source": [
        "#16.Create a code to check if a given list is sorted (either in ascending or descending order) or not"
      ],
      "metadata": {
        "id": "YZJ-8BxEVAjy"
      },
      "execution_count": 32,
      "outputs": []
    },
    {
      "cell_type": "code",
      "source": [
        "#To check if a list is sorted in either ascending or descending order, you can create a function that verifies both conditions. Here’s a Python function to do that:\n",
        "\n",
        "#code\n",
        "def is_sorted(lst):\n",
        "    if not lst:\n",
        "        return True  # An empty list is considered sorted\n",
        "\n",
        "    # Check if the list is sorted in ascending order\n",
        "    ascending = all(lst[i] <= lst[i+1] for i in range(len(lst) - 1))\n",
        "\n",
        "    # Check if the list is sorted in descending order\n",
        "    descending = all(lst[i] >= lst[i+1] for i in range(len(lst) - 1))\n",
        "\n",
        "    return ascending or descending\n",
        "\n",
        "# Example usage\n",
        "print(is_sorted([1, 2, 3, 4, 5]))  # Output: True (Ascending)\n",
        "print(is_sorted([5, 4, 3, 2, 1]))  # Output: True (Descending)\n",
        "print(is_sorted([1, 3, 2, 4, 5]))  # Output: False (Not sorted)\n",
        "#In this code:\n",
        "\n",
        "#We first handle the case of an empty list by returning True, as it can be considered sorted.\n",
        "#We use list comprehensions to check if all adjacent elements in the list are in ascending or descending order.\n",
        "#We return True if the list is sorted in either ascending or descending order; otherwise, we return False."
      ],
      "metadata": {
        "colab": {
          "base_uri": "https://localhost:8080/"
        },
        "id": "r4lylcFPaHDx",
        "outputId": "5f270eca-6bbc-42a5-88b3-d2ef29e2c68d"
      },
      "execution_count": 33,
      "outputs": [
        {
          "output_type": "stream",
          "name": "stdout",
          "text": [
            "True\n",
            "True\n",
            "False\n"
          ]
        }
      ]
    },
    {
      "cell_type": "code",
      "source": [
        "#17.Write a code to merge two sorted lists into a single sorted lists."
      ],
      "metadata": {
        "id": "rWKyKDsncLGH"
      },
      "execution_count": 34,
      "outputs": []
    },
    {
      "cell_type": "code",
      "source": [
        "\n",
        "#To merge two sorted lists into a single sorted list, you can use a two-pointer approach to efficiently combine the lists while preserving their order. Here’s how you can do it in Python:\n",
        "\n",
        "#code\n",
        "def merge_sorted_lists(list1, list2):\n",
        "    sorted_list = []\n",
        "    i, j = 0, 0\n",
        "\n",
        "    # Traverse both lists and merge them\n",
        "    while i < len(list1) and j < len(list2):\n",
        "        if list1[i] <= list2[j]:\n",
        "            sorted_list.append(list1[i])\n",
        "            i += 1\n",
        "        else:\n",
        "            sorted_list.append(list2[j])\n",
        "            j += 1\n",
        "\n",
        "    # If there are remaining elements in list1\n",
        "    while i < len(list1):\n",
        "        sorted_list.append(list1[i])\n",
        "        i += 1\n",
        "\n",
        "    # If there are remaining elements in list2\n",
        "    while j < len(list2):\n",
        "        sorted_list.append(list2[j])\n",
        "        j += 1\n",
        "\n",
        "    return sorted_list\n",
        "\n",
        "# Example usage\n",
        "list1 = [1, 3, 5, 7]\n",
        "list2 = [2, 4, 6, 8]\n",
        "merged_list = merge_sorted_lists(list1, list2)\n",
        "print(merged_list)  # Output: [1, 2, 3, 4, 5, 6, 7, 8]\n",
        "#In this code:\n",
        "\n",
        "#We initialize two pointers, i and j, to traverse list1 and list2 respectively.\n",
        "#We compare elements from both lists and append the smaller element to sorted_list, moving the corresponding pointer forward.\n",
        "#After the main loop, we append any remaining elements from list1 and list2 to sorted_list.\n",
        "#This approach ensures that the final list is sorted and combines both input lists efficiently"
      ],
      "metadata": {
        "colab": {
          "base_uri": "https://localhost:8080/"
        },
        "id": "MzTsmlUZcgLu",
        "outputId": "df1306fe-969c-4b30-ac0b-7efe4f766c2f"
      },
      "execution_count": 35,
      "outputs": [
        {
          "output_type": "stream",
          "name": "stdout",
          "text": [
            "[1, 2, 3, 4, 5, 6, 7, 8]\n"
          ]
        }
      ]
    },
    {
      "cell_type": "code",
      "source": [
        "#18. Implement a code to find the intersection of two given lists."
      ],
      "metadata": {
        "id": "RfvwO6HPdCOd"
      },
      "execution_count": 37,
      "outputs": []
    },
    {
      "cell_type": "code",
      "source": [
        "#To find the intersection of two given lists (i.e., the elements that are present in both lists), you can use sets for an efficient solution. Here's how you can do it in Python:\n",
        "\n",
        "#code\n",
        "def intersect_lists(list1, list2):\n",
        "    # Convert lists to sets to find the intersection\n",
        "    set1 = set(list1)\n",
        "    set2 = set(list2)\n",
        "\n",
        "    # Find the intersection of both sets\n",
        "    intersection = set1 & set2\n",
        "\n",
        "    # Convert the result back to a list if needed\n",
        "    return list(intersection)\n",
        "\n",
        "# Example usage\n",
        "list1 = [1, 2, 3, 4, 5]\n",
        "list2 = [4, 5, 6, 7, 8]\n",
        "intersection = intersect_lists(list1, list2)\n",
        "print(intersection)  # Output: [4, 5]\n",
        "#In this code:\n",
        "\n",
        "#We first convert both input lists to sets (set1 and set2).\n",
        "#We then find the intersection of these sets using the & operator.\n",
        "#Finally, we convert the resulting set back to a list and return it.\n",
        "#This approach is efficient because set operations, such as intersection, are generally performed in constant time on average."
      ],
      "metadata": {
        "colab": {
          "base_uri": "https://localhost:8080/"
        },
        "id": "jJUJ6BKVdRXZ",
        "outputId": "d1aa6b67-db9c-48e0-9137-8ea81655a248"
      },
      "execution_count": 38,
      "outputs": [
        {
          "output_type": "stream",
          "name": "stdout",
          "text": [
            "[4, 5]\n"
          ]
        }
      ]
    },
    {
      "cell_type": "code",
      "source": [
        "#19.Create a code to find the union of two lists without duplicates.\n"
      ],
      "metadata": {
        "id": "KCe8JVWudvIz"
      },
      "execution_count": 39,
      "outputs": []
    },
    {
      "cell_type": "code",
      "source": [
        "#To find the union of two lists without duplicates, you can use sets, which inherently handle duplicate values. Here’s how you can achieve this in Python:\n",
        "\n",
        "#code\n",
        "def union_lists(list1, list2):\n",
        "    # Convert lists to sets to remove duplicates and find the union\n",
        "    set1 = set(list1)\n",
        "    set2 = set(list2)\n",
        "\n",
        "    # Find the union of both sets\n",
        "    union = set1 | set2\n",
        "\n",
        "    # Convert the result back to a list if needed\n",
        "    return list(union)\n",
        "\n",
        "# Example usage\n",
        "list1 = [1, 2, 3, 4, 5]\n",
        "list2 = [4, 5, 6, 7, 8]\n",
        "union = union_lists(list1, list2)\n",
        "print(union)  # Output: [1, 2, 3, 4, 5, 6, 7, 8]\n",
        "#In this code:\n",
        "\n",
        "#We convert both input lists to sets (set1 and set2) to handle duplicates and perform the union operation.\n",
        "#The | operator finds the union of the two sets, which combines all unique elements from both sets.\n",
        "#We then convert the resulting set back to a list and return it.\n",
        "#This approach ensures that the final list contains only unique elements from both input lists."
      ],
      "metadata": {
        "colab": {
          "base_uri": "https://localhost:8080/"
        },
        "id": "mpgYPdTDd9v3",
        "outputId": "9115c2f1-920c-4b67-8226-a292cdb01838"
      },
      "execution_count": 40,
      "outputs": [
        {
          "output_type": "stream",
          "name": "stdout",
          "text": [
            "[1, 2, 3, 4, 5, 6, 7, 8]\n"
          ]
        }
      ]
    },
    {
      "cell_type": "code",
      "source": [
        "#20.Write a code to shuffle a given list randomly without using any built-in shuffle functions."
      ],
      "metadata": {
        "id": "OfGtkVXPeOXf"
      },
      "execution_count": 41,
      "outputs": []
    },
    {
      "cell_type": "code",
      "source": [
        "#To shuffle a list randomly without using built-in shuffle functions, you can implement the Fisher-Yates (or Knuth) shuffle algorithm. This algorithm shuffles a list in place with uniform randomness. Here’s how you can do it in Python:\n",
        "\n",
        "#code\n",
        "import random\n",
        "\n",
        "def fisher_yates_shuffle(lst):\n",
        "    # Traverse the list from the end to the beginning\n",
        "    for i in range(len(lst) - 1, 0, -1):\n",
        "        # Pick a random index from 0 to i\n",
        "        j = random.randint(0, i)\n",
        "        # Swap elements at index i and j\n",
        "        lst[i], lst[j] = lst[j], lst[i]\n",
        "\n",
        "# Example usage\n",
        "my_list = [1, 2, 3, 4, 5]\n",
        "fisher_yates_shuffle(my_list)\n",
        "print(my_list)  # Output: [3, 1, 5, 2, 4] (or any other permutation)\n",
        "#In this code:\n",
        "\n",
        "#We iterate from the end of the list to the beginning.\n",
        "#For each position i, we select a random index j between 0 and i.\n",
        "#We then swap the elements at indices i and j.\n",
        "#This algorithm ensures that each permutation of the list is equally likely, resulting in a random shuffle.\n",
        "#The random.randint function is used to generate a random index within the specified range."
      ],
      "metadata": {
        "colab": {
          "base_uri": "https://localhost:8080/"
        },
        "id": "hhlzF0BtesP9",
        "outputId": "759920d5-fa51-45a4-ed7d-2d83f3e36b9f"
      },
      "execution_count": 42,
      "outputs": [
        {
          "output_type": "stream",
          "name": "stdout",
          "text": [
            "[1, 2, 4, 3, 5]\n"
          ]
        }
      ]
    },
    {
      "cell_type": "code",
      "source": [
        "#21.Write a code that takes two tuples as input and returns a new tuple containing elements that are common to both input tuples."
      ],
      "metadata": {
        "id": "YWqhAOSUfI01"
      },
      "execution_count": 43,
      "outputs": []
    },
    {
      "cell_type": "code",
      "source": [
        "#To find the common elements between two tuples and return them as a new tuple, you can use sets for efficient intersection operations. Here's a Python function to achieve this:\n",
        "\n",
        "#code\n",
        "def intersect_tuples(tuple1, tuple2):\n",
        "    # Convert tuples to sets to find the intersection\n",
        "    set1 = set(tuple1)\n",
        "    set2 = set(tuple2)\n",
        "\n",
        "    # Find the intersection of both sets\n",
        "    intersection = set1 & set2\n",
        "\n",
        "    # Convert the result back to a tuple\n",
        "    return tuple(intersection)\n",
        "\n",
        "# Example usage\n",
        "tuple1 = (1, 2, 3, 4, 5)\n",
        "tuple2 = (4, 5, 6, 7, 8)\n",
        "common_elements = intersect_tuples(tuple1, tuple2)\n",
        "print(common_elements)  # Output: (4, 5) (order may vary)\n",
        "#In this code:\n",
        "\n",
        "#We first convert both input tuples to sets (set1 and set2).\n",
        "#We then find the intersection of these sets using the & operator.\n",
        "#Finally, we convert the resulting set back to a tuple and return it.\n",
        "#Note that sets do not maintain the order of elements, so the order of elements in the result may vary. If preserving the order of the original tuples is important, you might need a different approach."
      ],
      "metadata": {
        "colab": {
          "base_uri": "https://localhost:8080/"
        },
        "id": "GxijKr0KfppC",
        "outputId": "e0fa403e-4c8b-4e0f-e639-45ae2fbd9011"
      },
      "execution_count": 44,
      "outputs": [
        {
          "output_type": "stream",
          "name": "stdout",
          "text": [
            "(4, 5)\n"
          ]
        }
      ]
    },
    {
      "cell_type": "code",
      "source": [
        "#22.Create a code that prompts the user to enter two sets of integers separated by commas. Then, print the intersection of these two sets."
      ],
      "metadata": {
        "id": "4l8Cpprjf7b5"
      },
      "execution_count": 45,
      "outputs": []
    },
    {
      "cell_type": "code",
      "source": [
        "#To prompt the user for two sets of integers and then print their intersection, you can use the following code. This code will read input from the user, convert the input strings into sets of integers, and then compute and print their intersection:\n",
        "\n",
        "#code\n",
        "def prompt_and_intersect_sets():\n",
        "    # Prompt the user to enter the first set of integers\n",
        "    input1 = input(\"Enter the first set of integers, separated by commas: \")\n",
        "    # Convert the input string to a set of integers\n",
        "    set1 = set(map(int, input1.split(',')))\n",
        "\n",
        "    # Prompt the user to enter the second set of integers\n",
        "    input2 = input(\"Enter the second set of integers, separated by commas: \")\n",
        "    # Convert the input string to a set of integers\n",
        "    set2 = set(map(int, input2.split(',')))\n",
        "\n",
        "    # Find the intersection of both sets\n",
        "    intersection = set1 & set2\n",
        "\n",
        "    # Print the intersection\n",
        "    print(\"The intersection of the two sets is:\", intersection)\n",
        "\n",
        "# Example usage\n",
        "prompt_and_intersect_sets()\n",
        "#In this code:\n",
        "\n",
        "#input() is used to prompt the user to enter two sets of integers, separated by commas.\n",
        "#split(',') splits the input string into a list of strings.\n",
        "#map(int, ...) converts these strings to integers.\n",
        "#set(...) converts the list of integers into a set.\n",
        "#The intersection of the two sets is computed using the & operator.\n",
        "#Finally, the intersection is printed."
      ],
      "metadata": {
        "id": "GV2jrg9bglO9"
      },
      "execution_count": null,
      "outputs": []
    },
    {
      "cell_type": "code",
      "source": [
        "#23.Write a code to concatenate two tuples. The function should take two tuples as input and return a new tuple containing elements from both input tuples."
      ],
      "metadata": {
        "id": "6V04ep22hbe5"
      },
      "execution_count": null,
      "outputs": []
    },
    {
      "cell_type": "code",
      "source": [
        "#To concatenate two tuples and return a new tuple containing elements from both, you can simply use the + operator, which is designed for tuple concatenation. Here’s a function to do that:\n",
        "\n",
        "#code\n",
        "def concatenate_tuples(tuple1, tuple2):\n",
        "    # Concatenate the two tuples\n",
        "    result = tuple1 + tuple2\n",
        "    return result\n",
        "\n",
        "# Example usage\n",
        "tuple1 = (1, 2, 3)\n",
        "tuple2 = (4, 5, 6)\n",
        "concatenated_tuple = concatenate_tuples(tuple1, tuple2)\n",
        "print(concatenated_tuple)  # Output: (1, 2, 3, 4, 5, 6)\n",
        "#In this code:\n",
        "\n",
        "#The function concatenate_tuples takes two tuples as input.\n",
        "#It uses the + operator to concatenate tuple1 and tuple2.\n",
        "#The resulting tuple is returned.\n",
        "#This method is straightforward and efficient for concatenating tuples."
      ],
      "metadata": {
        "id": "RdcXP6Fhh5sW"
      },
      "execution_count": null,
      "outputs": []
    },
    {
      "cell_type": "code",
      "source": [
        "#24.Develop a code that prompts the user to input two sets of strings. Then print the elements that are present in the first set but not in the second set."
      ],
      "metadata": {
        "id": "5cUVGlURiSGO"
      },
      "execution_count": null,
      "outputs": []
    },
    {
      "cell_type": "code",
      "source": [
        "#To prompt the user to input two sets of strings and then print the elements that are present in the first set but not in the second set, you can use the following code:\n",
        "\n",
        "#code\n",
        "def prompt_and_diff_sets():\n",
        "    # Prompt the user to enter the first set of strings\n",
        "    input1 = input(\"Enter the first set of strings, separated by commas: \")\n",
        "    # Convert the input string to a set of strings\n",
        "    set1 = set(input1.split(','))\n",
        "\n",
        "    # Prompt the user to enter the second set of strings\n",
        "    input2 = input(\"Enter the second set of strings, separated by commas: \")\n",
        "    # Convert the input string to a set of strings\n",
        "    set2 = set(input2.split(','))\n",
        "\n",
        "    # Find the difference between the two sets\n",
        "    difference = set1 - set2\n",
        "\n",
        "    # Print the elements present in the first set but not in the second set\n",
        "    print(\"Elements present in the first set but not in the second set:\", difference)\n",
        "\n",
        "# Example usage\n",
        "prompt_and_diff_sets()\n",
        "#In this code:\n",
        "\n",
        "#input() is used to prompt the user to enter two sets of strings, separated by commas.\n",
        "#split(',') is used to split the input string into a list of strings.\n",
        "#set(...) converts the list of strings into a set.\n",
        "#The difference between set1 and set2 is computed using the - operator.\n",
        "#Finally, the difference is printed.\n",
        "#This code assumes that the user inputs valid strings separated by commas, and it will correctly handle the case where the first set has elements that are not in the second set.\n"
      ],
      "metadata": {
        "id": "WJ6qxCr1jFqW"
      },
      "execution_count": null,
      "outputs": []
    },
    {
      "cell_type": "code",
      "source": [
        "#Create a code that takes a tuple and two integers as input. The function should return a new tuple containing elements from the original tuple within the specified range of indices.\n"
      ],
      "metadata": {
        "id": "0_kcibP_jj4h"
      },
      "execution_count": null,
      "outputs": []
    },
    {
      "cell_type": "code",
      "source": [
        "#To create a function that takes a tuple and two integers (representing a start and end index) and returns a new tuple containing the elements from the original tuple within the specified range of indices, you can use Python's tuple slicing. Here's how you can implement this:\n",
        "\n",
        "#code\n",
        "def slice_tuple(original_tuple, start_index, end_index):\n",
        "    # Ensure that indices are within the valid range\n",
        "    if start_index < 0 or end_index > len(original_tuple) or start_index > end_index:\n",
        "        raise ValueError(\"Invalid indices\")\n",
        "\n",
        "    # Slice the tuple based on the provided indices\n",
        "    sliced_tuple = original_tuple[start_index:end_index]\n",
        "\n",
        "    return sliced_tuple\n",
        "\n",
        "# Example usage\n",
        "original_tuple = (10, 20, 30, 40, 50, 60, 70)\n",
        "start_index = 2\n",
        "end_index = 5\n",
        "result = slice_tuple(original_tuple, start_index, end_index)\n",
        "print(result)  # Output: (30, 40, 50)\n",
        "#In this code:\n",
        "\n",
        "#slice_tuple is defined to take three parameters: the original tuple and two integers (start_index and end_index).\n",
        "#It checks if the provided indices are valid. The start index should be non-negative, the end index should not exceed the length of the tuple, and the start index should not be greater than the end index.\n",
        "#The tuple slicing operation original_tuple[start_index:end_index] extracts the elements between the specified indices.\n",
        "#Finally, the sliced tuple is returned.\n",
        "#This approach ensures that you get a new tuple containing elements from the original tuple within the specified range."
      ],
      "metadata": {
        "id": "VERmmUHDkVeb"
      },
      "execution_count": null,
      "outputs": []
    },
    {
      "cell_type": "code",
      "source": [
        "#26.Write a code that prompts the user to input two sets of characters. Then print the union of these two sets."
      ],
      "metadata": {
        "id": "_SFelekCkpEQ"
      },
      "execution_count": null,
      "outputs": []
    },
    {
      "cell_type": "code",
      "source": [
        "#To prompt the user for two sets of characters and then print their union, you can use the following code. This code will read input from the user, convert the input strings into sets of characters, compute the union of these sets, and print the result:\n",
        "\n",
        "#code\n",
        "def prompt_and_union_sets():\n",
        "    # Prompt the user to enter the first set of characters\n",
        "    input1 = input(\"Enter the first set of characters, separated by commas: \")\n",
        "    # Convert the input string to a set of characters\n",
        "    set1 = set(input1.replace(',', '').strip())\n",
        "\n",
        "    # Prompt the user to enter the second set of characters\n",
        "    input2 = input(\"Enter the second set of characters, separated by commas: \")\n",
        "    # Convert the input string to a set of characters\n",
        "    set2 = set(input2.replace(',', '').strip())\n",
        "\n",
        "    # Find the union of both sets\n",
        "    union = set1 | set2\n",
        "\n",
        "    # Print the union\n",
        "    print(\"The union of the two sets is:\", ''.join(sorted(union)))\n",
        "\n",
        "# Example usage\n",
        "prompt_and_union_sets()\n",
        "#In this code:\n",
        "\n",
        "#input() is used to prompt the user to enter two sets of characters, separated by commas.\n",
        "#replace(',', '') removes any commas from the input strings, and strip() removes any leading or trailing whitespace.\n",
        "#set(...) converts the cleaned input string into a set of characters.\n",
        "#The union of the two sets is computed using the | operator.\n",
        "#Finally, sorted(union) sorts the characters and ''.join(...) joins them into a single string for a readable output.\n",
        "#This code will handle characters entered by the user, compute their union, and display the result."
      ],
      "metadata": {
        "id": "hhw6pVp2lEYT"
      },
      "execution_count": null,
      "outputs": []
    },
    {
      "cell_type": "code",
      "source": [
        "#27. Develop a code that takes a tuple of integers as input. The function should return the maximum and minimum values from the tuple using tuple unpacking."
      ],
      "metadata": {
        "id": "yJlNdHrhlmpM"
      },
      "execution_count": null,
      "outputs": []
    },
    {
      "cell_type": "code",
      "source": [
        "#To create a function that takes a tuple of integers as input and returns the maximum and minimum values using tuple unpacking, you can use Python's built-in max() and min() functions. Here’s a code snippet that demonstrates this:\n",
        "\n",
        "#code\n",
        "def find_max_min(tpl):\n",
        "    if not tpl:\n",
        "        raise ValueError(\"Tuple is empty\")\n",
        "\n",
        "    # Compute maximum and minimum values\n",
        "    maximum = max(tpl)\n",
        "    minimum = min(tpl)\n",
        "\n",
        "    # Return the results as a tuple\n",
        "    return maximum, minimum\n",
        "\n",
        "# Example usage\n",
        "input_tuple = (10, 20, 5, 40, 30)\n",
        "max_value, min_value = find_max_min(input_tuple)\n",
        "print(f\"Maximum value: {max_value}\")\n",
        "print(f\"Minimum value: {min_value}\")\n",
        "#In this code:\n",
        "\n",
        "#The function find_max_min takes a tuple of integers tpl as input.\n",
        "#It checks if the tuple is empty and raises a ValueError if so.\n",
        "#It uses max(tpl) to find the maximum value and min(tpl) to find the minimum value from the tuple.\n",
        "#The function returns the maximum and minimum values as a tuple (maximum, minimum).\n",
        "#Tuple unpacking is used in the example usage to assign the returned values to max_value and min_value.\n",
        "#This approach efficiently calculates and returns the desired values using built-in functions."
      ],
      "metadata": {
        "id": "bAillhbBmJfo"
      },
      "execution_count": null,
      "outputs": []
    },
    {
      "cell_type": "code",
      "source": [
        "#28.Create a code that defines two sets of integers. Then print the union intersection and difference of these two sets."
      ],
      "metadata": {
        "id": "iMADIuIEnVrU"
      },
      "execution_count": null,
      "outputs": []
    },
    {
      "cell_type": "code",
      "source": [
        "#To define two sets of integers and print their union, intersection, and difference, you can use the following Python code. This code demonstrates how to perform these set operations and display the results:\n",
        "\n",
        "#code\n",
        "def set_operations():\n",
        "    # Define two sets of integers\n",
        "    set1 = {1, 2, 3, 4, 5}\n",
        "    set2 = {4, 5, 6, 7, 8}\n",
        "\n",
        "    # Calculate the union of the two sets\n",
        "    union = set1 | set2\n",
        "\n",
        "    # Calculate the intersection of the two sets\n",
        "    intersection = set1 & set2\n",
        "\n",
        "    # Calculate the difference between the two sets (elements in set1 but not in set2)\n",
        "    difference = set1 - set2\n",
        "\n",
        "    # Print the results\n",
        "    print(\"Set 1:\", set1)\n",
        "    print(\"Set 2:\", set2)\n",
        "    print(\"Union of the two sets:\", union)\n",
        "    print(\"Intersection of the two sets:\", intersection)\n",
        "    print(\"Difference (elements in set1 but not in set2):\", difference)\n",
        "\n",
        "# Example usage\n",
        "set_operations()\n",
        "#In this code:\n",
        "\n",
        "#Two sets of integers, set1 and set2, are defined.\n",
        "#The union of set1 and set2 is calculated using the | operator.\n",
        "#The intersection of set1 and set2 is calculated using the & operator.\n",
        "#The difference between set1 and set2 (elements present in set1 but not in set2) is calculated using the - operator.\n",
        "#The results are printed to the console.\n",
        "#You can modify the sets as needed to test with different values."
      ],
      "metadata": {
        "id": "xun4K58anyDM"
      },
      "execution_count": null,
      "outputs": []
    },
    {
      "cell_type": "code",
      "source": [
        "#29.Write a code that takes a tuple and an element as input. The function should return the count of occurrences of the given element in the tuple."
      ],
      "metadata": {
        "id": "ikFsedKKoIds"
      },
      "execution_count": null,
      "outputs": []
    },
    {
      "cell_type": "code",
      "source": [
        "#To create a function that takes a tuple and an element as input and returns the count of occurrences of that element in the tuple, you can use the count() method for tuples. Here’s how you can implement this:\n",
        "\n",
        "#code\n",
        "def count_occurrences(tpl, element):\n",
        "    # Return the count of occurrences of the element in the tuple\n",
        "    return tpl.count(element)\n",
        "\n",
        "# Example usage\n",
        "input_tuple = (1, 2, 3, 4, 5, 2, 2, 6)\n",
        "element = 2\n",
        "count = count_occurrences(input_tuple, element)\n",
        "print(f\"The element {element} occurs {count} times in the tuple.\")\n",
        "#In this code:\n",
        "\n",
        "#count_occurrences is defined to take two parameters: the tuple tpl and the element"
      ],
      "metadata": {
        "id": "Tt7JdnRQpDsp"
      },
      "execution_count": null,
      "outputs": []
    },
    {
      "cell_type": "code",
      "source": [
        "#30.Develop a code that prompts the user to input two sets of strings. Then print the symmetric difference of these two sets."
      ],
      "metadata": {
        "id": "wEKg86bKpJaJ"
      },
      "execution_count": null,
      "outputs": []
    },
    {
      "cell_type": "code",
      "source": [
        "#To prompt the user to input two sets of strings and then print their symmetric difference, you can use the following code. This code will read the input from the user, convert the input strings into sets, compute the symmetric difference, and print the result:\n",
        "\n",
        "#code\n",
        "def prompt_and_symmetric_difference():\n",
        "    # Prompt the user to enter the first"
      ],
      "metadata": {
        "id": "D9rtJoPjpfYP"
      },
      "execution_count": null,
      "outputs": []
    },
    {
      "cell_type": "code",
      "source": [
        "#31. Write a code that takes a list of words as input and returns a dictionary where the keys are unique words and the values are the frequencies of those words in the input list"
      ],
      "metadata": {
        "id": "8Cr2qOBYp9_i"
      },
      "execution_count": null,
      "outputs": []
    },
    {
      "cell_type": "code",
      "source": [
        "#Sure! Here’s a simple Python function to accomplish that:\n",
        "\n",
        "#code\n",
        "def word_frequencies(words_list):\n",
        "    # Create an empty dictionary to store word frequencies\n",
        "    freq_dict = {}\n",
        "\n",
        "    # Iterate through each word in the input list\n",
        "    for word in words_list:\n",
        "        # If the word is already in the dictionary, increment its count\n",
        "        if word in freq_dict:\n",
        "            freq_dict[word] += 1\n",
        "        # If the word is not in the dictionary, add it with a count of 1\n",
        "        else:\n",
        "            freq_dict[word] = 1\n",
        "\n",
        "    return freq_dict\n",
        "\n",
        "# Example usage:\n",
        "input_list = ['apple', 'banana', 'apple', 'orange', 'banana', 'apple']\n",
        "result = word_frequencies(input_list)\n",
        "print(result)  # Output: {'apple': 3, 'banana': 2, 'orange': 1}\n",
        "#This function will create a dictionary where each unique word from the input list is a key, and the value is the number of times that word appears in the list."
      ],
      "metadata": {
        "id": "e95Y1crwqpZg"
      },
      "execution_count": null,
      "outputs": []
    },
    {
      "cell_type": "code",
      "source": [
        "#32.Write a code that takes two dictionaries as input and merges them into a single dictionary. If there are common keys the values should be added together."
      ],
      "metadata": {
        "id": "-gW8gCUtq53c"
      },
      "execution_count": null,
      "outputs": []
    },
    {
      "cell_type": "code",
      "source": [
        "#Certainly! Here’s a Python function that takes two dictionaries and merges them. If there are common keys, their values are added together:\n",
        "\n",
        "#code\n",
        "def merge_dictionaries(dict1, dict2):\n",
        "    # Create a new dictionary to store the merged result\n",
        "    merged_dict = dict1.copy()  # Start with the contents of dict1\n",
        "\n",
        "    # Iterate through each key-value pair in dict2\n",
        "    for key, value in dict2.items():\n",
        "        # If the key is already in the merged dictionary, add the values\n",
        "        if key in merged_dict:\n",
        "            merged_dict[key] += value\n",
        "        # Otherwise, add the new key-value pair to the merged dictionary\n",
        "        else:\n",
        "            merged_dict[key] = value\n",
        "\n",
        "    return merged_dict\n",
        "\n",
        "# Example usage:\n",
        "dict1 = {'a': 1, 'b': 2, 'c': 3}\n",
        "dict2 = {'b': 3, 'c': 1, 'd': 4}\n",
        "result = merge_dictionaries(dict1, dict2)\n",
        "print(result)  # Output: {'a': 1, 'b': 5, 'c': 4, 'd': 4}\n",
        "#This function first copies dict1 into merged_dict. Then, it iterates through dict2 and updates merged_dict by adding values for existing keys or adding new key-value pairs if the key doesn’t already exist"
      ],
      "metadata": {
        "id": "_hm73GxGrcoE"
      },
      "execution_count": null,
      "outputs": []
    },
    {
      "cell_type": "code",
      "source": [
        "#33.Write a code to access a value in a nested dictionary. The function should take the dictionary and a list of keys as input and return the corresponding value. If any of the keys do not exist in thr dictionary the function should return None."
      ],
      "metadata": {
        "id": "_InYq03qscmh"
      },
      "execution_count": null,
      "outputs": []
    },
    {
      "cell_type": "code",
      "source": [
        "#Here's a Python function to access a value in a nested dictionary based on a list of keys. If any of the keys do not exist, it will return None:\n",
        "\n",
        "#code\n",
        "def get_nested_value(nested_dict, keys):\n",
        "    # Start with the outermost dictionary\n",
        "    current_value = nested_dict\n",
        "\n",
        "    # Iterate through each key in the list\n",
        "    for key in keys:\n",
        "        # Check if the current value is a dictionary and the key exists\n",
        "        if isinstance(current_value, dict) and key in current_value:\n",
        "            # Move one level deeper in the dictionary\n",
        "            current_value = current_value[key]\n",
        "        else:\n",
        "            # If the key doesn't exist or the current value is not a dictionary\n",
        "            return None\n",
        "\n",
        "    return current_value\n",
        "\n",
        "# Example usage:\n",
        "nested_dict = {\n",
        "    'a': {\n",
        "        'b': {\n",
        "            'c': 10\n",
        "        }\n",
        "    }\n",
        "}\n",
        "\n",
        "keys_list = ['a', 'b', 'c']\n",
        "result = get_nested_value(nested_dict, keys_list)\n",
        "print(result)  # Output: 10\n",
        "\n",
        "keys_list = ['a', 'b', 'd']\n",
        "result = get_nested_value(nested_dict, keys_list)\n",
        "print(result)  # Output: None\n",
        "#This function starts with the outermost dictionary and iterates through the list of keys. It checks if the current value is a dictionary and if the key exists at that level. If it does, it moves one level deeper. If at any point the key does not exist or the current value is not a dictionary, it returns None"
      ],
      "metadata": {
        "id": "k_uMAfdstfOW"
      },
      "execution_count": null,
      "outputs": []
    },
    {
      "cell_type": "code",
      "source": [
        "#34.Write a code that takes a dictionary as input and returns a sorted version of it based on the values. You can choose whether to sort in ascending or descending order."
      ],
      "metadata": {
        "id": "jnMO3yxat02s"
      },
      "execution_count": null,
      "outputs": []
    },
    {
      "cell_type": "code",
      "source": [
        "#Certainly! Here’s a Python function that takes a dictionary and returns a new dictionary sorted by its values. You can specify whether to sort in ascending or descending order by setting the ascending parameter.\n",
        "\n",
        "#code\n",
        "def sort_dict_by_values(d, ascending=True):\n",
        "    # Sort the dictionary items based on the values\n",
        "    sorted_items = sorted(d.items(), key=lambda item: item[1], reverse=not ascending)\n",
        "\n",
        "    # Create a new dictionary from the sorted items\n",
        "    sorted_dict = dict(sorted_items)\n",
        "\n",
        "    return sorted_dict\n",
        "\n",
        "# Example usage:\n",
        "input_dict = {'a': 3, 'b': 1, 'c': 2}\n",
        "\n",
        "# Sort in ascending order\n",
        "sorted_dict_asc = sort_dict_by_values(input_dict, ascending=True)\n",
        "print(sorted_dict_asc)  # Output: {'b': 1, 'c': 2, 'a': 3}\n",
        "\n",
        "# Sort in descending order\n",
        "sorted_dict_desc = sort_dict_by_values(input_dict, ascending=False)\n",
        "print(sorted_dict_desc)  # Output: {'a': 3, 'c': 2, 'b': 1}\n",
        "#In this function:\n",
        "\n",
        "#The sorted() function is used to sort the dictionary items. It uses a lambda function to sort by values.\n",
        "#The reverse parameter of sorted() is set based on whether ascending is True or False.\n",
        "#The sorted items are then converted back into a dictionary."
      ],
      "metadata": {
        "id": "5iMR3COvuiQ0"
      },
      "execution_count": null,
      "outputs": []
    },
    {
      "cell_type": "code",
      "source": [
        "#35.Write a code that inverts a dictionary swapping kyes and values. Ensure that the inverted dictionary correctly handles cases where multiple keys have the same value by storing the keys as a list in the inverted dictionary."
      ],
      "metadata": {
        "id": "6JsWnzZfu3Va"
      },
      "execution_count": null,
      "outputs": []
    },
    {
      "cell_type": "code",
      "source": [
        "#Certainly! Here’s a Python function that inverts a dictionary, swapping keys and values. If multiple keys share the same value, the inverted dictionary will store these keys as a list under the shared value:\n",
        "\n",
        "#code\n",
        "def invert_dict(d):\n",
        "    # Create an empty dictionary to store the inverted result\n",
        "    inverted_dict = {}\n",
        "\n",
        "    # Iterate through each key-value pair in the original dictionary\n",
        "    for key, value in d.items():\n",
        "        # If the value is already a key in the inverted dictionary\n",
        "        if value in inverted_dict:\n",
        "            # Append the key to the list of keys for this value\n",
        "            inverted_dict[value].append(key)\n",
        "        else:\n",
        "            # Otherwise, add a new entry with this value and key\n",
        "            inverted_dict[value] = [key]\n",
        "\n",
        "    return inverted_dict\n",
        "\n",
        "# Example usage:\n",
        "input_dict = {'a': 1, 'b': 2, 'c': 1, 'd': 3}\n",
        "inverted_dict = invert_dict(input_dict)\n",
        "print(inverted_dict)  # Output: {1: ['a', 'c'], 2: ['b'], 3: ['d']}\n",
        "#Explanation:\n",
        "#Create an Empty Dictionary: inverted_dict will store the inverted key-value pairs.\n",
        "#Iterate Through Items: For each key-value pair in the original dictionary:\n",
        "#Check Existence in Inverted Dictionary: If the value already exists as a key in inverted_dict, append the current key to the list.\n",
        "#Create New Entry: If the value does not exist, create a new entry with the value as the key and the current key as the first item in a list.\n",
        "#Return the Result: After processing all items, return the inverted_dict."
      ],
      "metadata": {
        "id": "hIETYudeu7Dw"
      },
      "execution_count": null,
      "outputs": []
    },
    {
      "cell_type": "code",
      "source": [],
      "metadata": {
        "id": "yGJqR7-O1sPd"
      },
      "execution_count": null,
      "outputs": []
    }
  ]
}