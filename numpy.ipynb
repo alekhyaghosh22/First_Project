{
  "nbformat": 4,
  "nbformat_minor": 0,
  "metadata": {
    "colab": {
      "provenance": []
    },
    "kernelspec": {
      "name": "python3",
      "display_name": "Python 3"
    },
    "language_info": {
      "name": "python"
    }
  },
  "cells": [
    {
      "cell_type": "code",
      "execution_count": 1,
      "metadata": {
        "id": "t5N2Er7tuUab"
      },
      "outputs": [],
      "source": [
        "#1. Explain the purpose and advantages of NumPy in scientific computing and data analysis. How does it enhance Python's capabilities for numerical operations?"
      ]
    },
    {
      "cell_type": "code",
      "source": [
        "#NumPy, which stands for Numerical Python, is a foundational library for scientific computing in Python. It provides support for large, multi-dimensional arrays and matrices, along with a collection of mathematical functions to operate on these arrays. Here’s an overview of its purpose and advantages:\n",
        "\n",
        "#Purpose of NumPy\n",
        "#Array Handling: NumPy introduces the ndarray (n-dimensional array) object, which allows for efficient storage and manipulation of large datasets.\n",
        "#Numerical Computing: It provides functions for performing mathematical operations on arrays, making it easier to perform complex calculations.\n",
        "#Interoperability: NumPy arrays serve as the basis for many other scientific libraries in Python, such as SciPy, Pandas, and Matplotlib.\n",
        "#Advantages of NumPy\n",
        "#Performance:\n",
        "\n",
        "#Speed: NumPy operations are implemented in C, making them much faster than native Python operations, especially for large datasets.\n",
        "#Vectorization: NumPy allows for vectorized operations, meaning you can apply operations to entire arrays without the need for explicit loops, leading to cleaner and more efficient code.\n",
        "#Memory Efficiency:\n",
        "\n",
        "#NumPy arrays are more memory-efficient than Python lists, as they store data in contiguous memory locations and have a fixed type.\n",
        "#This can lead to significant savings when handling large datasets.\n",
        "#Convenient Mathematical Functions:\n",
        "\n",
        "#NumPy provides a wide range of mathematical functions, such as linear algebra operations, statistical functions, Fourier transforms, and random number generation, making it easy to perform complex analyses.\n",
        "#Multi-dimensional Data:\n",
        "\n",
        "#NumPy supports n-dimensional arrays, allowing for the representation of complex datasets in various dimensions, which is particularly useful in fields like physics, engineering, and finance.\n",
        "#Easy Integration:\n",
        "\n",
        "#NumPy works seamlessly with other Python libraries and tools, enhancing its usability in scientific computing and data analysis workflows.\n",
        "#Broadcasting:\n",
        "\n",
        "#The broadcasting feature allows NumPy to perform operations on arrays of different shapes in a flexible way, simplifying coding and reducing the need for manual reshaping.\n",
        "#Enhancing Python's Capabilities\n",
        "#NumPy enhances Python’s numerical capabilities by providing a high-performance environment tailored for numerical computations. With its array-oriented programming style, it allows users to express operations succinctly and efficiently. This leads to:\n",
        "\n",
        "#Reduced Complexity: Tasks that would require cumbersome loops and conditionals can often be expressed in a single line of NumPy code.\n",
        "#Increased Productivity: Researchers and data scientists can focus on solving problems rather than optimizing their code for performance.\n",
        "#Access to Advanced Algorithms: NumPy provides access to advanced algorithms and operations that are optimized for performance, helping users tackle complex scientific and engineering problems.\n",
        "#In summary, NumPy is a critical tool for scientific computing in Python, providing efficient data structures, powerful numerical capabilities, and a strong foundation for further libraries, ultimately enhancing Python's role in data analysis and numerical operations.\n",
        "\n",
        "\n",
        "\n"
      ],
      "metadata": {
        "id": "N1aSNNFbud0c"
      },
      "execution_count": 2,
      "outputs": []
    },
    {
      "cell_type": "code",
      "source": [
        "#2. Compare and contrast np.mean() and np.average() functions in NumPy. When would you use one over the other?"
      ],
      "metadata": {
        "id": "0x-HifIzu94s"
      },
      "execution_count": 3,
      "outputs": []
    },
    {
      "cell_type": "code",
      "source": [
        "#In NumPy, both np.mean() and np.average() are used to compute the average of array elements, but they have some key differences in functionality and use cases. Here's a comparison of the two:\n",
        "\n",
        "#np.mean()\n",
        "#Purpose: Computes the arithmetic mean of the elements in the array.\n",
        "#Syntax: np.mean(a, axis=None, dtype=None, out=None)\n",
        "#Parameters:\n",
        "#a: Input array.\n",
        "#axis: Axis or axes along which the means are computed. By default, it computes the mean of the flattened array.\n",
        "#dtype: Data type of the returned array.\n",
        "#out: Alternative output array to store the result.\n",
        "#Behavior: Treats all elements equally and calculates the mean as the sum of all elements divided by the number of elements.\n",
        "#np.average()\n",
        "#Purpose: Computes the weighted average of the elements in the array, with the option to specify weights.\n",
        "#Syntax: np.average(a, axis=None, weights=None, returned=False)\n",
        "#Parameters:\n",
        "#a: Input array.\n",
        "#axis: Axis or axes along which the averages are computed.\n",
        "#weights: An optional array of weights. If provided, it must be the same shape as a, or it must be broadcastable to a.\n",
        "#returned: If True, the function returns a tuple containing the average and the sum of the weights.\n",
        "#Behavior: Calculates the average considering the provided weights. If no weights are specified, it behaves like np.mean().\n",
        "#Key Differences\n",
        "#Weights:\n",
        "\n",
        "#np.mean(): No weighting; treats all elements equally.\n",
        "#np.average(): Allows for weights, which can emphasize certain elements more than others in the calculation.\n",
        "#Return Values:\n",
        "\n",
        "#np.mean(): Always returns a single average value (or an array of averages if computed along an axis).\n",
        "#np.average(): Can return an additional value (the sum of the weights) if the returned parameter is set to True.\n",
        "#Use Cases:\n",
        "\n",
        "#np.mean(): Use when you simply want to compute the average of a dataset without any weighting.\n",
        "#np.average(): Use when you want to compute a weighted average where some elements contribute more to the final average than others.\n",
        "#Example Usage\n",
        "#np.mean():\n",
        "\n",
        "#code\n",
        "import numpy as np\n",
        "data = np.array([1, 2, 3, 4, 5])\n",
        "mean_value = np.mean(data)  # Returns 3.0\n",
        "#np.average():\n",
        "\n",
        "#code\n",
        "import numpy as np\n",
        "data = np.array([1, 2, 3, 4, 5])\n",
        "weights = np.array([1, 1, 1, 1, 1])  # Equal weights\n",
        "average_value = np.average(data, weights=weights)  # Also returns 3.0\n",
        "\n",
        "# With different weights\n",
        "weights = np.array([1, 2, 3, 4, 5])  # Heavier weighting for higher values\n",
        "weighted_average = np.average(data, weights=weights)  # Returns 4.0\n",
        "#Conclusion\n",
        "#In summary, choose np.mean() when you want a straightforward average of the dataset, and use np.average() when you need to consider different contributions from elements through weighting"
      ],
      "metadata": {
        "id": "G30CPY24vPVB"
      },
      "execution_count": 5,
      "outputs": []
    },
    {
      "cell_type": "code",
      "source": [
        "#3. Describe the methods for reversing a NumPy array along different axes. Provide examples for 1D and 2D arrays."
      ],
      "metadata": {
        "id": "R25zC7lBv3Qy"
      },
      "execution_count": 6,
      "outputs": []
    },
    {
      "cell_type": "code",
      "source": [
        "#Reversing a NumPy array can be done along different axes using slicing techniques. Here’s how to reverse both 1D and 2D arrays:\n",
        "\n",
        "#Reversing a 1D Array\n",
        "#To reverse a 1D array, you can use slicing with the step parameter set to -1.\n",
        "\n",
        "#Example:\n",
        "\n",
        "#code\n",
        "import numpy as np\n",
        "\n",
        "# Create a 1D array\n",
        "arr_1d = np.array([1, 2, 3, 4, 5])\n",
        "\n",
        "# Reverse the array\n",
        "reversed_arr_1d = arr_1d[::-1]\n",
        "\n",
        "print(\"Original 1D array:\", arr_1d)\n",
        "print(\"Reversed 1D array:\", reversed_arr_1d)\n",
        "#Output:\n",
        "\n",
        "#code\n",
        "#Original 1D array: [1 2 3 4 5]\n",
        "#Reversed 1D array: [5 4 3 2 1]\n",
        "#Reversing a 2D Array\n",
        "#For a 2D array, you can reverse along specific axes. You can specify the axis you want to reverse: axis=0 for rows and axis=1 for columns.\n",
        "\n",
        "#Reverse along Rows (axis=0)\n",
        "#Example:\n",
        "\n",
        "#code\n",
        "import numpy as np\n",
        "\n",
        "# Create a 2D array\n",
        "arr_2d = np.array([[1, 2, 3],\n",
        "                   [4, 5, 6],\n",
        "                   [7, 8, 9]])\n",
        "\n",
        "# Reverse the array along the rows (axis 0)\n",
        "reversed_rows = arr_2d[::-1]\n",
        "\n",
        "print(\"Original 2D array:\\n\", arr_2d)\n",
        "print(\"Reversed 2D array (rows):\\n\", reversed_rows)\n",
        "#Output:\n",
        "\n",
        "#code\n",
        "#Original 2D array:\n",
        "# [[1 2 3]\n",
        "# [4 5 6]\n",
        " #[7 8 9]]\n",
        "#Reversed 2D array (rows):\n",
        " #[[7 8 9]\n",
        " #[4 5 6]\n",
        " #[1 2 3]]\n",
        "#Reverse along Columns (axis=1)\n",
        "#Example:\n",
        "\n",
        "#code\n",
        "import numpy as np\n",
        "\n",
        "# Reverse the array along the columns (axis 1)\n",
        "reversed_columns = arr_2d[:, ::-1]\n",
        "\n",
        "print(\"Reversed 2D array (columns):\\n\", reversed_columns)\n",
        "#Output:\n",
        "\n",
        "#code\n",
        "#Reversed 2D array (columns):\n",
        "# [[3 2 1]\n",
        " #[6 5 4]\n",
        " #[9 8 7]]\n",
        "#Summary\n",
        "#For a 1D array, use slicing with [::-1] to reverse the entire array.\n",
        "#For a 2D array:\n",
        "#Use [::-1] to reverse along rows (axis 0).\n",
        "#Use [:, ::-1] to reverse along columns (axis 1).\n",
        "#These slicing techniques are efficient and leverage NumPy's powerful array manipulation capabilities.\n"
      ],
      "metadata": {
        "colab": {
          "base_uri": "https://localhost:8080/"
        },
        "id": "sJsQt38kwEFP",
        "outputId": "5978dbf2-f72b-43b1-d25a-6577cf840d84"
      },
      "execution_count": 17,
      "outputs": [
        {
          "output_type": "stream",
          "name": "stdout",
          "text": [
            "Original 1D array: [1 2 3 4 5]\n",
            "Reversed 1D array: [5 4 3 2 1]\n",
            "Original 2D array:\n",
            " [[1 2 3]\n",
            " [4 5 6]\n",
            " [7 8 9]]\n",
            "Reversed 2D array (rows):\n",
            " [[7 8 9]\n",
            " [4 5 6]\n",
            " [1 2 3]]\n",
            "Reversed 2D array (columns):\n",
            " [[3 2 1]\n",
            " [6 5 4]\n",
            " [9 8 7]]\n"
          ]
        }
      ]
    },
    {
      "cell_type": "code",
      "source": [
        "#4. How can you determine the data type of elements in a NumPy array? Discuss the importance of data types in memory management and performance"
      ],
      "metadata": {
        "id": "Zq6nkR9JxGwR"
      },
      "execution_count": 18,
      "outputs": []
    },
    {
      "cell_type": "code",
      "source": [
        "#In NumPy, you can determine the data type of elements in an array using the .dtype attribute. Here’s how to do it, along with a discussion on the importance of data types in memory management and performance.\n",
        "\n",
        "#Checking Data Types\n",
        "#Example:\n",
        "\n",
        "#code\n",
        "import numpy as np\n",
        "\n",
        "# Create a NumPy array\n",
        "arr = np.array([1, 2, 3, 4, 5])\n",
        "\n",
        "# Determine the data type\n",
        "data_type = arr.dtype\n",
        "\n",
        "print(\"Data type of the array elements:\", data_type)\n",
        "#Output:\n",
        "\n",
        "#code\n",
        "#Data type of the array elements: int64\n",
        "#Importance of Data Types\n",
        "#Memory Management:\n",
        "\n",
        "#Efficient Storage: Different data types consume different amounts of memory. For instance, an int32 uses 4 bytes, while an int64 uses 8 bytes. Choosing an appropriate data type can significantly reduce the memory footprint of your arrays, especially when dealing with large datasets.\n",
        "#Type Casting: You can specify the data type during array creation (e.g., np.array([1, 2, 3], dtype=np.float32)), which helps in managing memory more effectively.\n",
        "#Performance:\n",
        "\n",
        "#Speed of Operations: NumPy operations are optimized for specific data types. For example, operations on arrays of float32 may be faster than on float64, especially on systems with limited processing power or memory bandwidth.\n",
        "#Vectorization: NumPy’s performance benefits from vectorized operations, which can be more efficient with certain data types. Using appropriate data types can leverage the underlying optimized libraries that NumPy relies on, such as BLAS or LAPACK.\n",
        "#Compatibility and Interoperability:\n",
        "\n",
        "#Interfacing with Other Libraries: Many scientific libraries expect specific data types. Using the correct data types ensures compatibility and prevents potential issues when passing data between libraries (e.g., passing NumPy arrays to a machine learning library).\n",
        "#Avoiding Errors:\n",
        "\n",
        "#Preventing Data Loss: Using inappropriate data types can lead to issues like overflow (e.g., when using int8 for large numbers) or loss of precision (e.g., using float32 for calculations requiring high precision).\n",
        "#Debugging and Maintenance: Being aware of data types can help avoid bugs related to unintended type conversions or comparisons, making the code easier to debug and maintain.\n",
        "#Conclusion\n",
        "#In summary, understanding and managing data types in NumPy is crucial for optimizing memory usage, enhancing performance, ensuring compatibility with other libraries, and preventing potential errors. The .dtype attribute is a simple yet powerful way to inspect the data type of array elements, allowing for better data management in scientific computing and data analysis tasks."
      ],
      "metadata": {
        "colab": {
          "base_uri": "https://localhost:8080/"
        },
        "id": "ZbpaCYSPxh_b",
        "outputId": "737b8789-83ac-470e-8b07-6e1a58d91e60"
      },
      "execution_count": 20,
      "outputs": [
        {
          "output_type": "stream",
          "name": "stdout",
          "text": [
            "Data type of the array elements: int64\n"
          ]
        }
      ]
    },
    {
      "cell_type": "code",
      "source": [
        "#5. Define ndarrays in NumPy and explain their key features. How do they differ from standard Python lists?"
      ],
      "metadata": {
        "id": "6A_8SVpqyCYr"
      },
      "execution_count": 21,
      "outputs": []
    },
    {
      "cell_type": "code",
      "source": [
        "#In NumPy, an ndarray (n-dimensional array) is a powerful data structure used for storing and manipulating large datasets. Here’s an overview of its key features and how it differs from standard Python lists:\n",
        "\n",
        "#Key Features of ndarray\n",
        "#Multi-dimensional:\n",
        "\n",
        "#ndarray can represent arrays of any number of dimensions (1D, 2D, 3D, etc.). This flexibility allows for complex data structures, such as matrices and tensors.\n",
        "#Homogeneous Data:\n",
        "\n",
        "#All elements in a NumPy array must be of the same data type. This uniformity leads to more efficient storage and faster processing compared to Python lists, which can hold mixed data types.\n",
        "#Contiguous Memory Allocation:\n",
        "\n",
        "#ndarray objects are stored in contiguous blocks of memory, which improves cache locality and access speed. This contrasts with Python lists, which store references to objects in non-contiguous memory locations.\n",
        "#Performance:\n",
        "\n",
        "#NumPy operations on ndarray are optimized and typically implemented in C. This results in faster computations, especially for large datasets, due to vectorized operations that allow for bulk processing without explicit loops.\n",
        "#Broadcasting:\n",
        "\n",
        "#NumPy supports broadcasting, which allows operations on arrays of different shapes. This feature enables arithmetic operations without needing to manually align shapes, making it easier to work with multi-dimensional data.\n",
        "#Rich Functionality:\n",
        "\n",
        "#NumPy provides a vast array of mathematical and statistical functions that can be applied directly to ndarray objects, facilitating complex computations with minimal code.\n",
        "#Slicing and Indexing:\n",
        "\n",
        "#Slicing in ndarray is more powerful than in Python lists, allowing for multi-dimensional slicing and advanced indexing techniques (e.g., boolean indexing).\n",
        "#Reshaping and Size Manipulation:\n",
        "\n",
        "#You can easily reshape or resize ndarray objects without copying the data, allowing for flexible manipulation of the array dimensions.\n",
        "#Differences from Standard Python Lists\n",
        "#Data Type:\n",
        "\n",
        "#ndarray: Homogeneous; all elements are of the same data type.\n",
        "#Python Lists: Heterogeneous; can contain elements of different data types.\n",
        "#Performance:\n",
        "\n",
        "#ndarray: Faster for numerical operations due to optimized C implementations and contiguous memory layout.\n",
        "#Python Lists: Slower for numerical operations, especially with large datasets, because they involve Python object overhead and non-contiguous memory.\n",
        "#Memory Usage:\n",
        "\n",
        "#ndarray: More memory-efficient for large datasets, as it uses fixed data types and contiguous memory allocation.\n",
        "#Python Lists: Less memory-efficient, as each element is a reference to a Python object and can lead to more overhead.\n",
        "#Functionality:\n",
        "\n",
        "#ndarray: Comes with extensive mathematical and statistical functions built into NumPy, making it suitable for scientific computing.\n",
        "#Python Lists: Basic functionality and require loops for most mathematical operations, which can be cumbersome.\n",
        "#Slicing Behavior:\n",
        "\n",
        "#ndarray: Supports advanced slicing, broadcasting, and multi-dimensional indexing.\n",
        "#Python Lists: Supports basic slicing but lacks the advanced features of NumPy arrays.\n",
        "#Conclusion\n",
        "#ndarray is a cornerstone of NumPy and provides powerful capabilities for handling and manipulating numerical data. Its features make it vastly superior for scientific computing and data analysis compared to standard Python lists, especially when working with large datasets and performing complex calculations."
      ],
      "metadata": {
        "id": "k9UZbT0UyKWv"
      },
      "execution_count": 22,
      "outputs": []
    },
    {
      "cell_type": "code",
      "source": [
        "#6. Analyze the performance benefits of NumPy arrays over Python lists for large-scale numerical operations."
      ],
      "metadata": {
        "id": "xCwqGzakzN3z"
      },
      "execution_count": 23,
      "outputs": []
    },
    {
      "cell_type": "code",
      "source": [
        "#NumPy arrays offer significant performance benefits over Python lists, especially when it comes to large-scale numerical operations. Here are the key areas where NumPy excels:\n",
        "\n",
        "#1. Memory Efficiency\n",
        "#Contiguous Memory Allocation: NumPy arrays are stored in contiguous blocks of memory, which allows for better cache performance. This reduces memory access times compared to Python lists, where elements can be scattered across memory.\n",
        "#Fixed Data Types: NumPy arrays require that all elements be of the same data type. This uniformity reduces overhead and enables more compact storage compared to Python lists, which store references to objects that can have different types.\n",
        "#2. Performance Speed\n",
        "#Vectorization: NumPy utilizes vectorized operations, allowing you to apply operations on entire arrays without using explicit loops. This is implemented in optimized C code, which is significantly faster than Python’s interpreted loops.\n",
        "\n",
        "#Example:\n",
        "\n",
        "#code\n",
        "import numpy as np\n",
        "arr = np.arange(1, 1000000)\n",
        "result = arr * 2  # Vectorized operation\n",
        "#Batch Processing: NumPy functions are designed to work with entire arrays, taking advantage of low-level optimizations that are not available with Python lists. This reduces the overhead of Python's for-loop and improves execution speed.\n",
        "\n",
        "#3. Numerical Stability and Precision\n",
        "#Optimized Libraries: NumPy relies on highly optimized libraries (like BLAS and LAPACK) for linear algebra and mathematical operations, which can handle large-scale computations more efficiently and accurately compared to manual implementations with lists.\n",
        "#Data Type Control: NumPy allows for explicit data type specification (e.g., float32, float64), enabling better control over precision and performance in calculations. This is especially crucial for large datasets where numerical precision can be a concern.\n",
        "#4. Broadcasting\n",
        "#Flexible Operations: NumPy’s broadcasting feature allows operations on arrays of different shapes without the need for explicit reshaping. This simplifies code and enhances performance by avoiding unnecessary data copying.\n",
        "\n",
        "#Example:\n",
        "\n",
        "#code\n",
        "import numpy as np\n",
        "a = np.array([[1, 2, 3], [4, 5, 6]])\n",
        "b = np.array([1, 2, 3])\n",
        "result = a + b  # Broadcasting adds b to each row of a\n",
        "#5. Functionality and Convenience\n",
        "#Rich Set of Functions: NumPy provides a vast array of built-in functions for mathematical and statistical operations, all optimized for performance. This means you can perform complex operations efficiently without having to implement them from scratch.\n",
        "#Easy Integration with Other Libraries: Many scientific libraries (e.g., SciPy, Pandas, Matplotlib) are built on top of NumPy, enabling seamless and efficient operations across different types of data processing tasks.\n",
        "#6. Parallelization and Hardware Acceleration\n",
        "#Support for Parallel Computing: NumPy can leverage multi-threading and parallel computation capabilities of underlying libraries, allowing for better utilization of CPU resources compared to Python lists, which typically operate in a single-threaded manner.\n",
        "#Conclusion\n",
        "#In summary, the performance benefits of NumPy arrays over Python lists for large-scale numerical operations are substantial. With improved memory efficiency, faster execution through vectorization, enhanced numerical stability, and a rich set of functionalities, NumPy is the go-to library for scientific computing and data analysis in Python. It significantly reduces computation time and resource usage, making it essential for handling large datasets effectively.\n"
      ],
      "metadata": {
        "id": "fAq1Gb78zVNL"
      },
      "execution_count": 24,
      "outputs": []
    },
    {
      "cell_type": "code",
      "source": [
        "#7. Compare vstack() and hstack() functions in NumPy. Provide examples demonstrating their usage and output."
      ],
      "metadata": {
        "id": "UYDJ3zC2z9b6"
      },
      "execution_count": 25,
      "outputs": []
    },
    {
      "cell_type": "code",
      "source": [
        "#In NumPy, vstack() and hstack() are functions used to stack arrays vertically and horizontally, respectively. Here's a comparison of the two along with examples demonstrating their usage.\n",
        "\n",
        "#vstack()\n",
        "#Function: numpy.vstack(tup)\n",
        "#Description: Stacks arrays in sequence vertically (row-wise). The input arrays must have the same shape along all but the first axis.\n",
        "#Example of vstack()\n",
        "#code\n",
        "#import numpy as np\n",
        "\n",
        "# Creating two 1D arrays\n",
        "#a = np.array([1, 2, 3])\n",
        "#b = np.array([4, 5, 6])\n",
        "\n",
        "# Using vstack\n",
        "#vstack_result = np.vstack((a, b))\n",
        "#print(\"vstack result:\")\n",
        "#print(vstack_result)\n",
        "#Output:\n",
        "\n",
        "#code\n",
        "#vstack result:\n",
        "#[[1 2 3]\n",
        " #[4 5 6]]\n",
        "#hstack()\n",
        "#Function: numpy.hstack(tup)\n",
        "#Description: Stacks arrays in sequence horizontally (column-wise). The input arrays must have the same shape along all but the second axis.\n",
        "#3Example of hstack()\n",
        "#code\n",
        "#import numpy as np\n",
        "\n",
        "# Creating two 1D arrays\n",
        "#a = np.array([1, 2, 3])\n",
        "#b = np.array([4, 5, 6])\n",
        "\n",
        "# Using hstack\n",
        "#hstack_result = np.hstack((a, b))\n",
        "#print(\"hstack result:\")\n",
        "#print(hstack_result)\n",
        "#Output:\n",
        "\n",
        "#code\n",
        "#hstack result:\n",
        "#[1 2 3 4 5 6]\n",
        "#Summary\n",
        "#vstack() combines arrays vertically, resulting in a new 2D array where the input arrays become rows.\n",
        "#hstack() combines arrays horizontally, resulting in a new 1D array where the input arrays are concatenated side by side.\n",
        "#Additional Example with 2D Arrays\n",
        "#code\n",
        "# Creating two 2D arrays\n",
        "#A = np.array([[1, 2], [3, 4]])\n",
        "#B = np.array([[5, 6], [7, 8]])\n",
        "\n",
        "# Using vstack\n",
        "#vstack_2D_result = np.vstack((A, B))\n",
        "#print(\"vstack 2D result:\")\n",
        "#print(vstack_2D_result)\n",
        "\n",
        "# Using hstack\n",
        "#hstack_2D_result = np.hstack((A, B))\n",
        "#print(\"hstack 2D result:\")\n",
        "#print(hstack_2D_result)\n",
        "#Output:\n",
        "\n",
        "#code\n",
        "#vstack 2D result:\n",
        "#[[1 2]\n",
        "#[5 6]\n",
        "# [7 8]]\n",
        "\n",
        "#hstack 2D result:\n",
        "#[[1 2 5 6]\n",
        " #[3 4 7 8]]\n",
        "#In this example, vstack() combines the rows of both matrices, while hstack() combines their columns.\n"
      ],
      "metadata": {
        "id": "7T-QUXDv0HVF"
      },
      "execution_count": 37,
      "outputs": []
    },
    {
      "cell_type": "code",
      "source": [
        "#8. Explain the differences between fliplr() and flipud() methods in NumPy, including their effects on various array dimensions"
      ],
      "metadata": {
        "id": "AaavWoH01C7Q"
      },
      "execution_count": 38,
      "outputs": []
    },
    {
      "cell_type": "code",
      "source": [
        "#In NumPy, fliplr() and flipud() are two functions used to flip arrays, but they operate along different axes.\n",
        "\n",
        "#fliplr()\n",
        "#Functionality: Flips an array left to right.\n",
        "#Axis: It operates along the horizontal axis (axis 1).\n",
        "#Effect on Dimensions:\n",
        "#2D Arrays: For a 2D array (matrix), it reverses the order of columns.\n",
        "#code\n",
        "import numpy as np\n",
        "\n",
        "arr = np.array([[1, 2, 3],\n",
        "                [4, 5, 6]])\n",
        "flipped = np.fliplr(arr)\n",
        "# Result:\n",
        "# [[3, 2, 1],\n",
        "#  [6, 5, 4]]\n",
        "#1D Arrays: Not applicable, as it requires at least a 2D array.\n",
        "#3D Arrays: Flips each 2D slice along the last axis.\n",
        "#code\n",
        "arr_3d = np.array([[[1, 2], [3, 4]],\n",
        "                   [[5, 6], [7, 8]]])\n",
        "flipped_3d = np.fliplr(arr_3d)\n",
        "# Result:\n",
        "# [[[2, 1], [4, 3]],\n",
        "#  [[6, 5], [8, 7]]]\n",
        "#flipud()\n",
        "#Functionality: Flips an array upside down.\n",
        "#Axis: It operates along the vertical axis (axis 0).\n",
        "#Effect on Dimensions:\n",
        "#2D Arrays: For a 2D array, it reverses the order of rows.\n",
        "#code\n",
        "arr = np.array([[1, 2, 3],\n",
        "                [4, 5, 6]])\n",
        "flipped = np.flipud(arr)\n",
        "# Result:\n",
        "# [[4, 5, 6],\n",
        "#  [1, 2, 3]]\n",
        "#1D Arrays: Flipping a 1D array behaves like reversing the array.\n",
        "#code\n",
        "arr_1d = np.array([1, 2, 3, 4])\n",
        "flipped_1d = np.flipud(arr_1d)\n",
        "# Result:\n",
        "# [4, 3, 2, 1]\n",
        "#3D Arrays: Flips each 2D slice along the first axis.\n",
        "#code\n",
        "arr_3d = np.array([[[1, 2], [3, 4]],\n",
        "                   [[5, 6], [7, 8]]])\n",
        "flipped_3d = np.flipud(arr_3d)\n",
        "# Result:\n",
        "# [[[5, 6], [7, 8]],\n",
        "#  [[1, 2], [3, 4]]]\n",
        "#Summary\n",
        "#fliplr(): Flips arrays horizontally (left to right) along axis 1.\n",
        "#flipud(): Flips arrays vertically (upside down) along axis 0.\n",
        "#Both functions are useful for manipulating the orientation of arrays depending on the desired layout for analysis or visualization."
      ],
      "metadata": {
        "id": "KLIqzL312ZXQ"
      },
      "execution_count": 39,
      "outputs": []
    },
    {
      "cell_type": "code",
      "source": [
        "9. Discuss the functionality of the array_split() method in NumPy. How does it handle uneven splits?"
      ],
      "metadata": {
        "colab": {
          "base_uri": "https://localhost:8080/"
        },
        "id": "t6Qzk4Wd2-L5",
        "outputId": "6c5bbd4f-f097-4246-fe36-d4c9a15157e5"
      },
      "execution_count": 40,
      "outputs": [
        {
          "output_type": "stream",
          "name": "stdout",
          "text": [
            "Object `splits` not found.\n"
          ]
        }
      ]
    },
    {
      "cell_type": "code",
      "source": [
        "#The array_split() function in NumPy is used to split an array into multiple sub-arrays. It's a flexible function that allows you to specify the number of splits, and it can handle cases where the array cannot be evenly divided.\n",
        "\n",
        "#Functionality of array_split()\n",
        "#Basic Syntax:\n",
        "\n",
        "#code\n",
        "#numpy.array_split(ary, indices_or_sections, axis=0)\n",
        "#Parameters:\n",
        "\n",
        "#ary: The input array to be split.\n",
        "#indices_or_sections: This can be either an integer specifying the number of equal parts to split the array into, or an array of indices at which to split the array.\n",
        "#axis: The axis along which to split the array. The default is 0 (the first axis).\n",
        "#Returns: A list of sub-arrays.\n",
        "\n",
        "#Handling Uneven Splits\n",
        "#When the total size of the array along the specified axis is not evenly divisible by the number of splits requested, array_split() will handle this gracefully:\n",
        "\n",
        "#Uneven Division: If the number of elements in the array cannot be evenly divided, the resulting sub-arrays will be of uneven sizes. The first few sub-arrays will contain one more element than the others to account for the remainder.\n",
        "\n",
        "#For example:\n",
        "\n",
        "#code\n",
        "import numpy as np\n",
        "\n",
        "arr = np.array([1, 2, 3, 4, 5])\n",
        "split_arr = np.array_split(arr, 3)\n",
        "# Result:\n",
        "# [array([1, 2]), array([3, 4]), array([5])]\n",
        "#Here, arr has 5 elements, and when splitting into 3 parts, the first two parts get 2 elements each, and the last part gets the remaining element.\n",
        "\n",
        "#Summary of Behavior\n",
        "#Equal Splits: If the array can be evenly divided, each sub-array will have the same size.\n",
        "#Uneven Splits: If the array cannot be evenly divided, the extra elements are distributed among the first few sub-arrays, making them larger by one element.\n",
        "#Flexibility: You can also specify split indices instead of the number of splits, allowing for more customized partitioning.\n",
        "#This functionality makes array_split() a powerful tool for dividing arrays in data processing, especially when the exact size of the resulting arrays may vary."
      ],
      "metadata": {
        "id": "osd9T7gh3JCN"
      },
      "execution_count": 41,
      "outputs": []
    },
    {
      "cell_type": "code",
      "source": [
        "#10. Explain the concepts of vectorization and broadcasting in NumPy. How do they contribute to efficient array operations."
      ],
      "metadata": {
        "id": "4_J1Qahz3qzS"
      },
      "execution_count": 42,
      "outputs": []
    },
    {
      "cell_type": "code",
      "source": [
        "#Vectorization and broadcasting are two powerful concepts in NumPy that significantly enhance the efficiency of array operations.\n",
        "\n",
        "#Vectorization\n",
        "#Definition: Vectorization refers to the ability to perform operations on entire arrays rather than using explicit loops to process individual elements. This takes advantage of low-level optimizations in NumPy, allowing for faster computations.\n",
        "\n",
        "#Benefits:\n",
        "\n",
        "#Performance: Vectorized operations are generally faster than their loop-based counterparts because they are implemented in C and optimized for performance.\n",
        "#Code Simplicity: Using vectorized operations leads to cleaner, more readable code. Instead of writing nested loops, you can apply operations directly on arrays.\n",
        "#Example:\n",
        "\n",
        "#code\n",
        "import numpy as np\n",
        "\n",
        "# Without vectorization (using a loop)\n",
        "arr = np.array([1, 2, 3, 4, 5])\n",
        "result = []\n",
        "for x in arr:\n",
        "    result.append(x ** 2)\n",
        "# result: [1, 4, 9, 16, 25]\n",
        "\n",
        "# With vectorization\n",
        "result_vectorized = arr ** 2\n",
        "# result_vectorized: array([ 1,  4,  9, 16, 25])\n",
        "#Broadcasting\n",
        "#Definition: Broadcasting is a mechanism that allows NumPy to perform operations on arrays of different shapes. When the shapes of the arrays are not the same, NumPy automatically adjusts them to make them compatible for element-wise operations.\n",
        "\n",
        "#How it Works:\n",
        "\n",
        "#Rules: Broadcasting follows certain rules:\n",
        "#If the arrays have a different number of dimensions, the smaller-dimensional array is \"padded\" with ones on the left until they match.\n",
        "#If the dimensions of the arrays are different, NumPy compares them element-wise. If they are not the same size, one of them must be 1 in that dimension for broadcasting to occur.\n",
        "#Example:\n",
        "\n",
        "#code\n",
        "#import numpy as np\n",
        "\n",
        "# Arrays of different shapes\n",
        "a = np.array([[1, 2, 3], [4, 5, 6]])  # Shape (2, 3)\n",
        "b = np.array([10, 20, 30])             # Shape (3,)\n",
        "\n",
        "# Broadcasting in action\n",
        "result_broadcasted = a + b\n",
        "# result_broadcasted:\n",
        "# [[11, 22, 33],\n",
        "#  [14, 25, 36]]\n",
        "#In this case, b is effectively treated as if it were [[10, 20, 30], [10, 20, 30]] for the purpose of the addition.\n",
        "\n",
        "#Contributions to Efficient Array Operations\n",
        "#Reduced Computation Time: By leveraging vectorization, NumPy avoids the overhead of Python loops, resulting in faster execution of array operations.\n",
        "#Memory Efficiency: Broadcasting enables operations without needing to create copies of arrays, which can save memory.\n",
        "#Simplified Code: Both vectorization and broadcasting lead to more concise code, making it easier to understand and maintain.\n",
        "#In summary, vectorization and broadcasting are fundamental to NumPy's design, allowing for efficient, concise, and fast array operations that are essential for numerical computing and data analysis."
      ],
      "metadata": {
        "id": "mpx10CNQ3zRN"
      },
      "execution_count": 43,
      "outputs": []
    },
    {
      "cell_type": "code",
      "source": [
        "#Practical Questions:"
      ],
      "metadata": {
        "id": "scEPLxiP4saS"
      },
      "execution_count": 44,
      "outputs": []
    },
    {
      "cell_type": "code",
      "source": [
        "#1. Create a 3x3 NumPy array with random integers between 1 and 100. Then, interchange its rows and columns."
      ],
      "metadata": {
        "id": "cTSzX2p140fo"
      },
      "execution_count": 46,
      "outputs": []
    },
    {
      "cell_type": "code",
      "source": [
        "#You can create a 3x3 NumPy array with random integers between 1 and 100 and then interchange its rows and columns using the following code:\n",
        "\n",
        "#code\n",
        "import numpy as np\n",
        "\n",
        "# Create a 3x3 array with random integers between 1 and 100\n",
        "array = np.random.randint(1, 101, size=(3, 3))\n",
        "print(\"Original Array:\")\n",
        "print(array)\n",
        "\n",
        "# Interchange rows and columns (transpose the array)\n",
        "transposed_array = array.T\n",
        "print(\"\\nTransposed Array:\")\n",
        "print(transposed_array)\n",
        "#In this code:\n",
        "\n",
        "#We use np.random.randint(1, 101, size=(3, 3)) to generate the random integers.\n",
        "#We then use the .T attribute to transpose the array, effectively interchanging its rows and columns.\n",
        "\n",
        "\n",
        "\n",
        "#You said:\n",
        "#1. Create a 3x3 NumPy array with random integers between 1 and 100. Then, interchange its rows and columns\n",
        "#ChatGPT said:\n",
        "#ChatGPT\n",
        "#Here's how you can create a 3x3 NumPy array with random integers between 1 and 100, and then interchange its rows and columns:\n",
        "\n",
        "#code\n",
        "import numpy as np\n",
        "\n",
        "# Create a 3x3 array with random integers between 1 and 100\n",
        "array = np.random.randint(1, 101, size=(3, 3))\n",
        "print(\"Original Array:\")\n",
        "print(array)\n",
        "\n",
        "# Interchange rows and columns (transpose the array)\n",
        "transposed_array = array.T\n",
        "print(\"\\nTransposed Array:\")\n",
        "print(transposed_array)\n",
        "#Explanation:\n",
        "#Creating the Array: np.random.randint(1, 101, size=(3, 3)) generates a 3x3 array with random integers from 1 to 100.\n",
        "#Transposing the Array: The .T attribute transposes the array, swapping its rows and columns.\n",
        "#You can run this code in a Python environment with NumPy installed to see the results!"
      ],
      "metadata": {
        "colab": {
          "base_uri": "https://localhost:8080/"
        },
        "id": "QapGdfIZ47JA",
        "outputId": "65e96161-2f5c-468e-be5b-c8ba7b6c196f"
      },
      "execution_count": 47,
      "outputs": [
        {
          "output_type": "stream",
          "name": "stdout",
          "text": [
            "Original Array:\n",
            "[[13 73 82]\n",
            " [66 84 22]\n",
            " [72 22 70]]\n",
            "\n",
            "Transposed Array:\n",
            "[[13 66 72]\n",
            " [73 84 22]\n",
            " [82 22 70]]\n",
            "Original Array:\n",
            "[[47 11 74]\n",
            " [ 2 11 61]\n",
            " [22 86 80]]\n",
            "\n",
            "Transposed Array:\n",
            "[[47  2 22]\n",
            " [11 11 86]\n",
            " [74 61 80]]\n"
          ]
        }
      ]
    },
    {
      "cell_type": "code",
      "source": [
        "#2. Generate a 1D NumPy array with 10 elements. Reshape it into a 2x5 array, then into a 5x2 array."
      ],
      "metadata": {
        "id": "Y_1djdVW5tIu"
      },
      "execution_count": 48,
      "outputs": []
    },
    {
      "cell_type": "code",
      "source": [
        "#Here’s how you can generate a 1D NumPy array with 10 elements, reshape it into a 2x5 array, and then into a 5x2 array:\n",
        "\n",
        "#code\n",
        "import numpy as np\n",
        "\n",
        "# Generate a 1D array with 10 elements\n",
        "array_1d = np.arange(10)  # Creates an array with elements from 0 to 9\n",
        "print(\"1D Array:\")\n",
        "print(array_1d)\n",
        "\n",
        "# Reshape it into a 2x5 array\n",
        "array_2x5 = array_1d.reshape(2, 5)\n",
        "print(\"\\nReshaped into 2x5 Array:\")\n",
        "print(array_2x5)\n",
        "\n",
        "# Reshape it into a 5x2 array\n",
        "array_5x2 = array_1d.reshape(5, 2)\n",
        "print(\"\\nReshaped into 5x2 Array:\")\n",
        "print(array_5x2)\n",
        "#Output Explanation:\n",
        "#1D Array: The np.arange(10) function creates an array like this:\n",
        "\n",
        "#code\n",
        "[0, 1, 2, 3, 4, 5, 6, 7, 8, 9]\n",
        "#2x5 Array: The first reshape produces a 2x5 array:\n",
        "\n",
        "#lua\n",
        "#code\n",
        "[[0, 1, 2, 3, 4],\n",
        " [5, 6, 7, 8, 9]]\n",
        "#5x2 Array: The second reshape gives a 5x2 array:\n",
        "\n",
        "#css\n",
        "#code\n",
        "[[0, 1],\n",
        " [2, 3],\n",
        " [4, 5],\n",
        " [6, 7],\n",
        " [8, 9]]\n",
        "#You can run this code to see the results!"
      ],
      "metadata": {
        "colab": {
          "base_uri": "https://localhost:8080/"
        },
        "id": "jckdh0-T52aT",
        "outputId": "523518f9-4e59-4276-c754-a6d1708f0bc4"
      },
      "execution_count": 49,
      "outputs": [
        {
          "output_type": "stream",
          "name": "stdout",
          "text": [
            "1D Array:\n",
            "[0 1 2 3 4 5 6 7 8 9]\n",
            "\n",
            "Reshaped into 2x5 Array:\n",
            "[[0 1 2 3 4]\n",
            " [5 6 7 8 9]]\n",
            "\n",
            "Reshaped into 5x2 Array:\n",
            "[[0 1]\n",
            " [2 3]\n",
            " [4 5]\n",
            " [6 7]\n",
            " [8 9]]\n"
          ]
        },
        {
          "output_type": "execute_result",
          "data": {
            "text/plain": [
              "[[0, 1], [2, 3], [4, 5], [6, 7], [8, 9]]"
            ]
          },
          "metadata": {},
          "execution_count": 49
        }
      ]
    },
    {
      "cell_type": "code",
      "source": [
        "#3. Create a 4x4 NumPy array with random float values. Add a border of zeros around it, resulting in a 6x6 array."
      ],
      "metadata": {
        "id": "MRyu0hLp6nyq"
      },
      "execution_count": 50,
      "outputs": []
    },
    {
      "cell_type": "code",
      "source": [
        "#You can create a 4x4 NumPy array with random float values and then add a border of zeros around it to result in a 6x6 array. Here’s how you can do that:\n",
        "\n",
        "#code\n",
        "import numpy as np\n",
        "\n",
        "# Create a 4x4 array with random float values\n",
        "array_4x4 = np.random.rand(4, 4)\n",
        "print(\"Original 4x4 Array:\")\n",
        "print(array_4x4)\n",
        "\n",
        "# Add a border of zeros around the array\n",
        "array_with_border = np.pad(array_4x4, pad_width=1, mode='constant', constant_values=0)\n",
        "print(\"\\n6x6 Array with Border of Zeros:\")\n",
        "print(array_with_border)\n",
        "#Explanation:\n",
        "#Creating the Array: np.random.rand(4, 4) generates a 4x4 array with random float values between 0 and 1.\n",
        "#Adding a Border: np.pad(array_4x4, pad_width=1, mode='constant', constant_values=0) adds a border of zeros around the original array, resulting in a 6x6 array.\n",
        "#You can run this code to see the output!"
      ],
      "metadata": {
        "colab": {
          "base_uri": "https://localhost:8080/"
        },
        "id": "wEdn6qG061lp",
        "outputId": "b49f011e-d382-4965-e44f-d54117ba1ffa"
      },
      "execution_count": 51,
      "outputs": [
        {
          "output_type": "stream",
          "name": "stdout",
          "text": [
            "Original 4x4 Array:\n",
            "[[0.89532377 0.93892269 0.00310881 0.78261568]\n",
            " [0.09794675 0.08129755 0.8058212  0.62301464]\n",
            " [0.43197566 0.88507799 0.39434927 0.99036159]\n",
            " [0.21697105 0.42058675 0.79767672 0.39299555]]\n",
            "\n",
            "6x6 Array with Border of Zeros:\n",
            "[[0.         0.         0.         0.         0.         0.        ]\n",
            " [0.         0.89532377 0.93892269 0.00310881 0.78261568 0.        ]\n",
            " [0.         0.09794675 0.08129755 0.8058212  0.62301464 0.        ]\n",
            " [0.         0.43197566 0.88507799 0.39434927 0.99036159 0.        ]\n",
            " [0.         0.21697105 0.42058675 0.79767672 0.39299555 0.        ]\n",
            " [0.         0.         0.         0.         0.         0.        ]]\n"
          ]
        }
      ]
    },
    {
      "cell_type": "code",
      "source": [
        "#4.Using NumPy, create an array of integers from 10 to 60 with a step of 5."
      ],
      "metadata": {
        "id": "jMBE2cYj7GUA"
      },
      "execution_count": 52,
      "outputs": []
    },
    {
      "cell_type": "code",
      "source": [
        "#You can create an array of integers from 10 to 60 with a step of 5 using NumPy's arange function. Here’s how you can do that:\n",
        "\n",
        "#code\n",
        "#import numpy as np\n",
        "\n",
        "# Create an array of integers from 10 to 60 with a step of 5\n",
        "array = np.arange(10, 61, 5)\n",
        "print(\"Array from 10 to 60 with a step of 5:\")\n",
        "print(array)\n",
        "#Explanation:\n",
        "#np.arange(10, 61, 5) generates an array starting from 10 up to (but not including) 61, with increments of 5.\n",
        "#You can run this code to see the output, which will be:\n",
        "\n",
        "#code\n",
        "#Array from 10 to 60 with a step of 5:\n",
        "#[10 15 20 25 30 35 40 45 50 55 60]"
      ],
      "metadata": {
        "colab": {
          "base_uri": "https://localhost:8080/"
        },
        "id": "Ng11w0Vp7N0T",
        "outputId": "1dd6b1d4-9d5c-4d4f-b49d-6acc16e5da1c"
      },
      "execution_count": 56,
      "outputs": [
        {
          "output_type": "stream",
          "name": "stdout",
          "text": [
            "Array from 10 to 60 with a step of 5:\n",
            "[10 15 20 25 30 35 40 45 50 55 60]\n"
          ]
        }
      ]
    },
    {
      "cell_type": "code",
      "source": [
        "#5. Create a NumPy array of strings ['python', 'numpy', 'pandas']. Apply different case transformations (uppercase, lowercase, title case, etc.) to each element"
      ],
      "metadata": {
        "id": "5pVeiC-R7-89"
      },
      "execution_count": 57,
      "outputs": []
    },
    {
      "cell_type": "code",
      "source": [
        "#You can create a NumPy array of strings and apply various case transformations using NumPy's vectorized string operations. Here’s how to do it:\n",
        "\n",
        "#code\n",
        "import numpy as np\n",
        "\n",
        "# Create a NumPy array of strings\n",
        "arr = np.array(['python', 'numpy', 'pandas'])\n",
        "\n",
        "# Apply different case transformations\n",
        "upper_case = np.char.upper(arr)          # Uppercase\n",
        "lower_case = np.char.lower(arr)          # Lowercase\n",
        "title_case = np.char.title(arr)          # Title case\n",
        "capitalize_case = np.char.capitalize(arr) # Capitalized case\n",
        "\n",
        "# Display the results\n",
        "print(\"Original Array: \", arr)\n",
        "print(\"Uppercase: \", upper_case)\n",
        "print(\"Lowercase: \", lower_case)\n",
        "print(\"Title Case: \", title_case)\n",
        "print(\"Capitalized: \", capitalize_case)\n",
        "#Output:\n",
        "#less\n",
        "#code\n",
        "#Original Array:  ['python' 'numpy' 'pandas']\n",
        "Uppercase:  ['PYTHON' 'NUMPY' 'PANDAS']\n",
        "Lowercase:  ['python' 'numpy' 'pandas']\n",
        "#Title Case:  ['Python' 'Numpy' 'Pandas']\n",
        "Capitalized:  ['Python' 'Numpy' 'Pandas']\n",
        "#This code demonstrates how to create an array of strings and perform different case transformations using NumPy's string functions.\n"
      ],
      "metadata": {
        "colab": {
          "base_uri": "https://localhost:8080/"
        },
        "id": "8fvOwHJK8Pis",
        "outputId": "a3353934-8450-49ed-93be-213a09d86ca4"
      },
      "execution_count": 60,
      "outputs": [
        {
          "output_type": "stream",
          "name": "stdout",
          "text": [
            "Original Array:  ['python' 'numpy' 'pandas']\n",
            "Uppercase:  ['PYTHON' 'NUMPY' 'PANDAS']\n",
            "Lowercase:  ['python' 'numpy' 'pandas']\n",
            "Title Case:  ['Python' 'Numpy' 'Pandas']\n",
            "Capitalized:  ['Python' 'Numpy' 'Pandas']\n"
          ]
        }
      ]
    },
    {
      "cell_type": "code",
      "source": [
        "#6. Generate a NumPy array of words. Insert a space between each character of every word in the array"
      ],
      "metadata": {
        "id": "TyJ3r04s8rBL"
      },
      "execution_count": 61,
      "outputs": []
    },
    {
      "cell_type": "code",
      "source": [
        "#You can generate a NumPy array of words and insert a space between each character of every word using NumPy's string operations. Here’s how you can do it:\n",
        "\n",
        "#code\n",
        "import numpy as np\n",
        "\n",
        "# Create a NumPy array of words\n",
        "words = np.array(['python', 'numpy', 'pandas'])\n",
        "\n",
        "# Insert a space between each character of every word\n",
        "spaced_words = np.char.join(' ', words)\n",
        "\n",
        "# Display the results\n",
        "print(\"Original Array: \", words)\n",
        "print(\"Spaced Words: \", spaced_words)\n",
        "#Output:\n",
        "#code\n",
        "#Original Array:  ['python' 'numpy' 'pandas']\n",
        "#Spaced Words:  ['p y t h o n' 'n u m p y' 'p a n d a s']\n",
        "#This code creates an array of words and uses the np.char.join function to insert spaces between the characters of each word.\n"
      ],
      "metadata": {
        "colab": {
          "base_uri": "https://localhost:8080/"
        },
        "id": "PbQi9W9t83W3",
        "outputId": "54659d9f-5249-464d-ad56-e322c4b5e44f"
      },
      "execution_count": 64,
      "outputs": [
        {
          "output_type": "stream",
          "name": "stdout",
          "text": [
            "Original Array:  ['python' 'numpy' 'pandas']\n",
            "Spaced Words:  ['p y t h o n' 'n u m p y' 'p a n d a s']\n"
          ]
        }
      ]
    },
    {
      "cell_type": "code",
      "source": [
        "#7. Create two 2D NumPy arrays and perform element-wise addition, subtraction, multiplication, and division"
      ],
      "metadata": {
        "id": "blcyHziW9GF_"
      },
      "execution_count": 65,
      "outputs": []
    },
    {
      "cell_type": "code",
      "source": [
        "#You can create two 2D NumPy arrays and perform element-wise operations such as addition, subtraction, multiplication, and division quite easily. Here’s how to do it:\n",
        "\n",
        "#code\n",
        "import numpy as np\n",
        "\n",
        "# Create two 2D NumPy arrays\n",
        "array1 = np.array([[1, 2, 3],\n",
        "                   [4, 5, 6]])\n",
        "\n",
        "array2 = np.array([[7, 8, 9],\n",
        "                   [10, 11, 12]])\n",
        "\n",
        "# Perform element-wise operations\n",
        "addition = array1 + array2            # Element-wise addition\n",
        "subtraction = array1 - array2         # Element-wise subtraction\n",
        "multiplication = array1 * array2      # Element-wise multiplication\n",
        "division = array1 / array2            # Element-wise division\n",
        "\n",
        "# Display the results\n",
        "print(\"Array 1:\\n\", array1)\n",
        "print(\"Array 2:\\n\", array2)\n",
        "print(\"Addition:\\n\", addition)\n",
        "print(\"Subtraction:\\n\", subtraction)\n",
        "print(\"Multiplication:\\n\", multiplication)\n",
        "print(\"Division:\\n\", division)\n",
        "#Output:\n",
        "#lua\n",
        "#code\n",
        "#Array 1:\n",
        "#[4 5 6]]\n",
        "#Array 2:\n",
        "# [[ 7  8  9]\n",
        " #[10 11 12]]\n",
        "#Addition:\n",
        " #[[ 8 10 12]\n",
        " #[14 16 18]]\n",
        "#Subtraction:\n",
        " #[[-6 -6 -6]\n",
        " #[-6 -6 -6]]\n",
        "#Multiplication:\n",
        "# [[ 7 16 27]\n",
        "# [40 55 72]]\n",
        "#Division:\n",
        "# [[0.14285714 0.25       0.33333333]\n",
        "# [0.4        0.45454545 0.5       ]]\n",
        "#This code creates two 2D arrays and performs element-wise addition, subtraction, multiplication, and division, displaying the results for each operation."
      ],
      "metadata": {
        "colab": {
          "base_uri": "https://localhost:8080/"
        },
        "id": "lCmP4s_V9OKH",
        "outputId": "15da7b9b-fa68-4b68-aa32-4f3f5392ecae"
      },
      "execution_count": 68,
      "outputs": [
        {
          "output_type": "stream",
          "name": "stdout",
          "text": [
            "Array 1:\n",
            " [[1 2 3]\n",
            " [4 5 6]]\n",
            "Array 2:\n",
            " [[ 7  8  9]\n",
            " [10 11 12]]\n",
            "Addition:\n",
            " [[ 8 10 12]\n",
            " [14 16 18]]\n",
            "Subtraction:\n",
            " [[-6 -6 -6]\n",
            " [-6 -6 -6]]\n",
            "Multiplication:\n",
            " [[ 7 16 27]\n",
            " [40 55 72]]\n",
            "Division:\n",
            " [[0.14285714 0.25       0.33333333]\n",
            " [0.4        0.45454545 0.5       ]]\n"
          ]
        }
      ]
    },
    {
      "cell_type": "code",
      "source": [
        "#8. Use NumPy to create a 5x5 identity matrix, then extract its diagonal elements"
      ],
      "metadata": {
        "id": "9xiqQh9a9s9A"
      },
      "execution_count": 69,
      "outputs": []
    },
    {
      "cell_type": "code",
      "source": [
        "#You can easily create a 5x5 identity matrix using NumPy and extract its diagonal elements. Here’s how you can do it:\n",
        "\n",
        "#code\n",
        "import numpy as np\n",
        "\n",
        "# Create a 5x5 identity matrix\n",
        "identity_matrix = np.eye(5)\n",
        "\n",
        "# Extract the diagonal elements\n",
        "diagonal_elements = np.diagonal(identity_matrix)\n",
        "\n",
        "print(\"Identity Matrix:\")\n",
        "print(identity_matrix)\n",
        "print(\"Diagonal Elements:\")\n",
        "print(diagonal_elements)\n",
        "#When you run this code, you'll see the identity matrix and its diagonal elements (which will be [1, 1, 1, 1, 1]). Let me know if you need further assistance!"
      ],
      "metadata": {
        "colab": {
          "base_uri": "https://localhost:8080/"
        },
        "id": "T0PVcJ2E-Hkd",
        "outputId": "9d58855c-00c7-4f6a-8eaa-15d8a36b6f5b"
      },
      "execution_count": 70,
      "outputs": [
        {
          "output_type": "stream",
          "name": "stdout",
          "text": [
            "Identity Matrix:\n",
            "[[1. 0. 0. 0. 0.]\n",
            " [0. 1. 0. 0. 0.]\n",
            " [0. 0. 1. 0. 0.]\n",
            " [0. 0. 0. 1. 0.]\n",
            " [0. 0. 0. 0. 1.]]\n",
            "Diagonal Elements:\n",
            "[1. 1. 1. 1. 1.]\n"
          ]
        }
      ]
    },
    {
      "cell_type": "code",
      "source": [
        "#9. Generate a NumPy array of 100 random integers between 0 and 1000. Find and display all prime numbers in this array"
      ],
      "metadata": {
        "id": "rjm-eDay-tN1"
      },
      "execution_count": 71,
      "outputs": []
    },
    {
      "cell_type": "code",
      "source": [
        "#You can generate an array of 100 random integers between 0 and 1000 and then find all prime numbers in that array using NumPy. Here’s how you can do it:\n",
        "\n",
        "#code\n",
        "import numpy as np\n",
        "\n",
        "# Generate an array of 100 random integers between 0 and 1000\n",
        "random_integers = np.random.randint(0, 1001, size=100)\n",
        "\n",
        "# Function to check if a number is prime\n",
        "def is_prime(n):\n",
        "    if n < 2:\n",
        "        return False\n",
        "    for i in range(2, int(n**0.5) + 1):\n",
        "        if n % i == 0:\n",
        "            return False\n",
        "    return True\n",
        "\n",
        "# Find all prime numbers in the array\n",
        "prime_numbers = [num for num in random_integers if is_prime(num)]\n",
        "\n",
        "print(\"Random Integers:\")\n",
        "print(random_integers)\n",
        "print(\"Prime Numbers:\")\n",
        "print(prime_numbers)\n",
        "#Explanation:\n",
        "#Generating Random Integers: The np.random.randint function generates 100 random integers in the specified range.\n",
        "#Prime Check Function: The is_prime function checks if a number is prime.\n",
        "#Filtering Primes: A list comprehension is used to create a list of prime numbers from the random integers.\n",
        "#Run this code to see the random integers and the extracted prime numbers! Let me know if you need anything else.\n",
        "\n",
        "\n",
        "\n"
      ],
      "metadata": {
        "colab": {
          "base_uri": "https://localhost:8080/"
        },
        "id": "O3HVuUE_-11R",
        "outputId": "1623d354-4ea9-4996-92b1-212fcf0f1d43"
      },
      "execution_count": 72,
      "outputs": [
        {
          "output_type": "stream",
          "name": "stdout",
          "text": [
            "Random Integers:\n",
            "[526 557  18 888 940 845 333 736 818 716 608 387 135 533 739 272 912 884\n",
            " 336 418 397 504 678  16 276 333 169 519 165 902 438 122 567 929 825 197\n",
            " 733 275  16 778 197  48 486 732 530 127 516 126 936 365 245 331  71 564\n",
            " 819 815 224 349 559 584 646 159 466 291 814 208 312 899 613  27 487 158\n",
            " 421 205 826 170  57 342 194 482 853 740 697 906 725 148 967 362 362 516\n",
            " 774 375 816 145 470  71  90 798 443 991]\n",
            "Prime Numbers:\n",
            "[557, 739, 397, 929, 197, 733, 197, 127, 331, 71, 349, 613, 487, 421, 853, 967, 71, 443, 991]\n"
          ]
        }
      ]
    },
    {
      "cell_type": "code",
      "source": [
        "#10. Create a NumPy array representing daily temperatures for a month. Calculate and display the weekly averages."
      ],
      "metadata": {
        "id": "h67asAIE_BnO"
      },
      "execution_count": 73,
      "outputs": []
    },
    {
      "cell_type": "code",
      "source": [
        "#You can create a NumPy array to represent daily temperatures for a month (30 days) and then calculate the weekly averages. Here’s how you can do it:\n",
        "\n",
        "#code\n",
        "import numpy as np\n",
        "\n",
        "# Create a NumPy array representing daily temperatures for a month (30 days)\n",
        "# For this example, we'll generate random temperatures between 15 and 30 degrees Celsius\n",
        "daily_temperatures = np.random.uniform(15, 30, size=30)\n",
        "\n",
        "# Calculate the weekly averages\n",
        "# We will reshape the array to (4 weeks, 7 days) and calculate the mean for each week\n",
        "#weekly_averages = daily_temperatures.reshape(4, 7).mean(axis=1)\n",
        "\n",
        "print(\"Daily Temperatures for the Month:\")\n",
        "print(daily_temperatures)\n",
        "print(\"\\nWeekly Averages:\")\n",
        "#print(weekly_averages)\n",
        "#Explanation:\n",
        "#Generating Daily Temperatures: The np.random.uniform function generates random temperatures between 15 and 30 degrees Celsius for 30 days.\n",
        "#Reshaping the Array: The reshape function changes the shape of the array to 4 rows (weeks) and 7 columns (days).\n",
        "#Calculating Weekly Averages: The mean function calculates the average for each week along the specified axis.\n",
        "#Run this code, and you'll see the daily temperatures along with the calculated weekly averages! Let me know if you need further help."
      ],
      "metadata": {
        "colab": {
          "base_uri": "https://localhost:8080/"
        },
        "id": "M8jb5Saa_K2W",
        "outputId": "368f9c19-5ea1-4a08-cd4f-755dfc5633fa"
      },
      "execution_count": 76,
      "outputs": [
        {
          "output_type": "stream",
          "name": "stdout",
          "text": [
            "Daily Temperatures for the Month:\n",
            "[20.59918779 21.93145853 26.96484146 24.56558298 29.36342489 20.29258874\n",
            " 25.96807803 15.17621529 21.72326439 15.92822288 21.47835608 28.90824471\n",
            " 27.68715421 26.76767747 29.84982336 23.58187157 26.33131729 26.09885242\n",
            " 24.33578697 22.93483859 16.04284899 20.50004634 28.27942692 23.83192311\n",
            " 16.8994106  20.91152788 17.23033661 24.82449451 27.35140284 20.9686104 ]\n",
            "\n",
            "Weekly Averages:\n"
          ]
        }
      ]
    },
    {
      "cell_type": "code",
      "source": [],
      "metadata": {
        "id": "yviy-33Q_XEW"
      },
      "execution_count": null,
      "outputs": []
    }
  ]
}